{
 "cells": [
  {
   "cell_type": "code",
   "execution_count": 2,
   "metadata": {},
   "outputs": [],
   "source": [
    "import numpy as np\n",
    "import pandas as pd\n",
    "import matplotlib.pyplot as plt\n",
    "import plotly.express as px\n",
    "from sklearn.preprocessing import StandardScaler\n",
    "from sklearn.model_selection import train_test_split, GridSearchCV\n",
    "from sklearn.ensemble import RandomForestClassifier\n",
    "from sklearn.metrics import accuracy_score, classification_report, confusion_matrix\n",
    "from sklearn import tree\n",
    "from sklearn.neural_network import MLPClassifier\n",
    "\n",
    "import warnings\n",
    "warnings.filterwarnings(\"ignore\")"
   ]
  },
  {
   "cell_type": "markdown",
   "metadata": {},
   "source": [
    "# Data Preparation"
   ]
  },
  {
   "cell_type": "code",
   "execution_count": 3,
   "metadata": {},
   "outputs": [
    {
     "data": {
      "text/html": [
       "<div>\n",
       "<style scoped>\n",
       "    .dataframe tbody tr th:only-of-type {\n",
       "        vertical-align: middle;\n",
       "    }\n",
       "\n",
       "    .dataframe tbody tr th {\n",
       "        vertical-align: top;\n",
       "    }\n",
       "\n",
       "    .dataframe thead th {\n",
       "        text-align: right;\n",
       "    }\n",
       "</style>\n",
       "<table border=\"1\" class=\"dataframe\">\n",
       "  <thead>\n",
       "    <tr style=\"text-align: right;\">\n",
       "      <th></th>\n",
       "      <th>Email No.</th>\n",
       "      <th>the</th>\n",
       "      <th>to</th>\n",
       "      <th>ect</th>\n",
       "      <th>and</th>\n",
       "      <th>for</th>\n",
       "      <th>of</th>\n",
       "      <th>a</th>\n",
       "      <th>you</th>\n",
       "      <th>hou</th>\n",
       "      <th>...</th>\n",
       "      <th>connevey</th>\n",
       "      <th>jay</th>\n",
       "      <th>valued</th>\n",
       "      <th>lay</th>\n",
       "      <th>infrastructure</th>\n",
       "      <th>military</th>\n",
       "      <th>allowing</th>\n",
       "      <th>ff</th>\n",
       "      <th>dry</th>\n",
       "      <th>Prediction</th>\n",
       "    </tr>\n",
       "  </thead>\n",
       "  <tbody>\n",
       "    <tr>\n",
       "      <th>0</th>\n",
       "      <td>Email 1</td>\n",
       "      <td>0</td>\n",
       "      <td>0</td>\n",
       "      <td>1</td>\n",
       "      <td>0</td>\n",
       "      <td>0</td>\n",
       "      <td>0</td>\n",
       "      <td>2</td>\n",
       "      <td>0</td>\n",
       "      <td>0</td>\n",
       "      <td>...</td>\n",
       "      <td>0</td>\n",
       "      <td>0</td>\n",
       "      <td>0</td>\n",
       "      <td>0</td>\n",
       "      <td>0</td>\n",
       "      <td>0</td>\n",
       "      <td>0</td>\n",
       "      <td>0</td>\n",
       "      <td>0</td>\n",
       "      <td>0</td>\n",
       "    </tr>\n",
       "    <tr>\n",
       "      <th>1</th>\n",
       "      <td>Email 2</td>\n",
       "      <td>8</td>\n",
       "      <td>13</td>\n",
       "      <td>24</td>\n",
       "      <td>6</td>\n",
       "      <td>6</td>\n",
       "      <td>2</td>\n",
       "      <td>102</td>\n",
       "      <td>1</td>\n",
       "      <td>27</td>\n",
       "      <td>...</td>\n",
       "      <td>0</td>\n",
       "      <td>0</td>\n",
       "      <td>0</td>\n",
       "      <td>0</td>\n",
       "      <td>0</td>\n",
       "      <td>0</td>\n",
       "      <td>0</td>\n",
       "      <td>1</td>\n",
       "      <td>0</td>\n",
       "      <td>0</td>\n",
       "    </tr>\n",
       "    <tr>\n",
       "      <th>2</th>\n",
       "      <td>Email 3</td>\n",
       "      <td>0</td>\n",
       "      <td>0</td>\n",
       "      <td>1</td>\n",
       "      <td>0</td>\n",
       "      <td>0</td>\n",
       "      <td>0</td>\n",
       "      <td>8</td>\n",
       "      <td>0</td>\n",
       "      <td>0</td>\n",
       "      <td>...</td>\n",
       "      <td>0</td>\n",
       "      <td>0</td>\n",
       "      <td>0</td>\n",
       "      <td>0</td>\n",
       "      <td>0</td>\n",
       "      <td>0</td>\n",
       "      <td>0</td>\n",
       "      <td>0</td>\n",
       "      <td>0</td>\n",
       "      <td>0</td>\n",
       "    </tr>\n",
       "    <tr>\n",
       "      <th>3</th>\n",
       "      <td>Email 4</td>\n",
       "      <td>0</td>\n",
       "      <td>5</td>\n",
       "      <td>22</td>\n",
       "      <td>0</td>\n",
       "      <td>5</td>\n",
       "      <td>1</td>\n",
       "      <td>51</td>\n",
       "      <td>2</td>\n",
       "      <td>10</td>\n",
       "      <td>...</td>\n",
       "      <td>0</td>\n",
       "      <td>0</td>\n",
       "      <td>0</td>\n",
       "      <td>0</td>\n",
       "      <td>0</td>\n",
       "      <td>0</td>\n",
       "      <td>0</td>\n",
       "      <td>0</td>\n",
       "      <td>0</td>\n",
       "      <td>0</td>\n",
       "    </tr>\n",
       "    <tr>\n",
       "      <th>4</th>\n",
       "      <td>Email 5</td>\n",
       "      <td>7</td>\n",
       "      <td>6</td>\n",
       "      <td>17</td>\n",
       "      <td>1</td>\n",
       "      <td>5</td>\n",
       "      <td>2</td>\n",
       "      <td>57</td>\n",
       "      <td>0</td>\n",
       "      <td>9</td>\n",
       "      <td>...</td>\n",
       "      <td>0</td>\n",
       "      <td>0</td>\n",
       "      <td>0</td>\n",
       "      <td>0</td>\n",
       "      <td>0</td>\n",
       "      <td>0</td>\n",
       "      <td>0</td>\n",
       "      <td>1</td>\n",
       "      <td>0</td>\n",
       "      <td>0</td>\n",
       "    </tr>\n",
       "    <tr>\n",
       "      <th>...</th>\n",
       "      <td>...</td>\n",
       "      <td>...</td>\n",
       "      <td>...</td>\n",
       "      <td>...</td>\n",
       "      <td>...</td>\n",
       "      <td>...</td>\n",
       "      <td>...</td>\n",
       "      <td>...</td>\n",
       "      <td>...</td>\n",
       "      <td>...</td>\n",
       "      <td>...</td>\n",
       "      <td>...</td>\n",
       "      <td>...</td>\n",
       "      <td>...</td>\n",
       "      <td>...</td>\n",
       "      <td>...</td>\n",
       "      <td>...</td>\n",
       "      <td>...</td>\n",
       "      <td>...</td>\n",
       "      <td>...</td>\n",
       "      <td>...</td>\n",
       "    </tr>\n",
       "    <tr>\n",
       "      <th>5167</th>\n",
       "      <td>Email 5168</td>\n",
       "      <td>2</td>\n",
       "      <td>2</td>\n",
       "      <td>2</td>\n",
       "      <td>3</td>\n",
       "      <td>0</td>\n",
       "      <td>0</td>\n",
       "      <td>32</td>\n",
       "      <td>0</td>\n",
       "      <td>0</td>\n",
       "      <td>...</td>\n",
       "      <td>0</td>\n",
       "      <td>0</td>\n",
       "      <td>0</td>\n",
       "      <td>0</td>\n",
       "      <td>0</td>\n",
       "      <td>0</td>\n",
       "      <td>0</td>\n",
       "      <td>0</td>\n",
       "      <td>0</td>\n",
       "      <td>0</td>\n",
       "    </tr>\n",
       "    <tr>\n",
       "      <th>5168</th>\n",
       "      <td>Email 5169</td>\n",
       "      <td>35</td>\n",
       "      <td>27</td>\n",
       "      <td>11</td>\n",
       "      <td>2</td>\n",
       "      <td>6</td>\n",
       "      <td>5</td>\n",
       "      <td>151</td>\n",
       "      <td>4</td>\n",
       "      <td>3</td>\n",
       "      <td>...</td>\n",
       "      <td>0</td>\n",
       "      <td>0</td>\n",
       "      <td>0</td>\n",
       "      <td>0</td>\n",
       "      <td>0</td>\n",
       "      <td>0</td>\n",
       "      <td>0</td>\n",
       "      <td>1</td>\n",
       "      <td>0</td>\n",
       "      <td>0</td>\n",
       "    </tr>\n",
       "    <tr>\n",
       "      <th>5169</th>\n",
       "      <td>Email 5170</td>\n",
       "      <td>0</td>\n",
       "      <td>0</td>\n",
       "      <td>1</td>\n",
       "      <td>1</td>\n",
       "      <td>0</td>\n",
       "      <td>0</td>\n",
       "      <td>11</td>\n",
       "      <td>0</td>\n",
       "      <td>0</td>\n",
       "      <td>...</td>\n",
       "      <td>0</td>\n",
       "      <td>0</td>\n",
       "      <td>0</td>\n",
       "      <td>0</td>\n",
       "      <td>0</td>\n",
       "      <td>0</td>\n",
       "      <td>0</td>\n",
       "      <td>0</td>\n",
       "      <td>0</td>\n",
       "      <td>1</td>\n",
       "    </tr>\n",
       "    <tr>\n",
       "      <th>5170</th>\n",
       "      <td>Email 5171</td>\n",
       "      <td>2</td>\n",
       "      <td>7</td>\n",
       "      <td>1</td>\n",
       "      <td>0</td>\n",
       "      <td>2</td>\n",
       "      <td>1</td>\n",
       "      <td>28</td>\n",
       "      <td>2</td>\n",
       "      <td>0</td>\n",
       "      <td>...</td>\n",
       "      <td>0</td>\n",
       "      <td>0</td>\n",
       "      <td>0</td>\n",
       "      <td>0</td>\n",
       "      <td>0</td>\n",
       "      <td>0</td>\n",
       "      <td>0</td>\n",
       "      <td>1</td>\n",
       "      <td>0</td>\n",
       "      <td>1</td>\n",
       "    </tr>\n",
       "    <tr>\n",
       "      <th>5171</th>\n",
       "      <td>Email 5172</td>\n",
       "      <td>22</td>\n",
       "      <td>24</td>\n",
       "      <td>5</td>\n",
       "      <td>1</td>\n",
       "      <td>6</td>\n",
       "      <td>5</td>\n",
       "      <td>148</td>\n",
       "      <td>8</td>\n",
       "      <td>2</td>\n",
       "      <td>...</td>\n",
       "      <td>0</td>\n",
       "      <td>0</td>\n",
       "      <td>0</td>\n",
       "      <td>0</td>\n",
       "      <td>0</td>\n",
       "      <td>0</td>\n",
       "      <td>0</td>\n",
       "      <td>0</td>\n",
       "      <td>0</td>\n",
       "      <td>0</td>\n",
       "    </tr>\n",
       "  </tbody>\n",
       "</table>\n",
       "<p>5172 rows × 3002 columns</p>\n",
       "</div>"
      ],
      "text/plain": [
       "       Email No.  the  to  ect  and  for  of    a  you  hou  ...  connevey  \\\n",
       "0        Email 1    0   0    1    0    0   0    2    0    0  ...         0   \n",
       "1        Email 2    8  13   24    6    6   2  102    1   27  ...         0   \n",
       "2        Email 3    0   0    1    0    0   0    8    0    0  ...         0   \n",
       "3        Email 4    0   5   22    0    5   1   51    2   10  ...         0   \n",
       "4        Email 5    7   6   17    1    5   2   57    0    9  ...         0   \n",
       "...          ...  ...  ..  ...  ...  ...  ..  ...  ...  ...  ...       ...   \n",
       "5167  Email 5168    2   2    2    3    0   0   32    0    0  ...         0   \n",
       "5168  Email 5169   35  27   11    2    6   5  151    4    3  ...         0   \n",
       "5169  Email 5170    0   0    1    1    0   0   11    0    0  ...         0   \n",
       "5170  Email 5171    2   7    1    0    2   1   28    2    0  ...         0   \n",
       "5171  Email 5172   22  24    5    1    6   5  148    8    2  ...         0   \n",
       "\n",
       "      jay  valued  lay  infrastructure  military  allowing  ff  dry  \\\n",
       "0       0       0    0               0         0         0   0    0   \n",
       "1       0       0    0               0         0         0   1    0   \n",
       "2       0       0    0               0         0         0   0    0   \n",
       "3       0       0    0               0         0         0   0    0   \n",
       "4       0       0    0               0         0         0   1    0   \n",
       "...   ...     ...  ...             ...       ...       ...  ..  ...   \n",
       "5167    0       0    0               0         0         0   0    0   \n",
       "5168    0       0    0               0         0         0   1    0   \n",
       "5169    0       0    0               0         0         0   0    0   \n",
       "5170    0       0    0               0         0         0   1    0   \n",
       "5171    0       0    0               0         0         0   0    0   \n",
       "\n",
       "      Prediction  \n",
       "0              0  \n",
       "1              0  \n",
       "2              0  \n",
       "3              0  \n",
       "4              0  \n",
       "...          ...  \n",
       "5167           0  \n",
       "5168           0  \n",
       "5169           1  \n",
       "5170           1  \n",
       "5171           0  \n",
       "\n",
       "[5172 rows x 3002 columns]"
      ]
     },
     "execution_count": 3,
     "metadata": {},
     "output_type": "execute_result"
    }
   ],
   "source": [
    "raw_df = pd.read_csv('./emails.csv')\n",
    "raw_df"
   ]
  },
  {
   "cell_type": "code",
   "execution_count": 4,
   "metadata": {},
   "outputs": [
    {
     "name": "stdout",
     "output_type": "stream",
     "text": [
      "<class 'pandas.core.frame.DataFrame'>\n",
      "RangeIndex: 5172 entries, 0 to 5171\n",
      "Columns: 3002 entries, Email No. to Prediction\n",
      "dtypes: int64(3001), object(1)\n",
      "memory usage: 118.5+ MB\n"
     ]
    }
   ],
   "source": [
    "raw_df.info()"
   ]
  },
  {
   "cell_type": "code",
   "execution_count": 5,
   "metadata": {},
   "outputs": [
    {
     "name": "stdout",
     "output_type": "stream",
     "text": [
      "col 0 = Email No.\n",
      "col -1 = Prediction\n"
     ]
    }
   ],
   "source": [
    "print(\"col 0 = {}\\ncol -1 = {}\".format(raw_df.columns[0],raw_df.columns[-1]))"
   ]
  },
  {
   "cell_type": "markdown",
   "metadata": {},
   "source": [
    "Assign X, Y dataframe"
   ]
  },
  {
   "cell_type": "code",
   "execution_count": 6,
   "metadata": {},
   "outputs": [
    {
     "data": {
      "text/html": [
       "<div>\n",
       "<style scoped>\n",
       "    .dataframe tbody tr th:only-of-type {\n",
       "        vertical-align: middle;\n",
       "    }\n",
       "\n",
       "    .dataframe tbody tr th {\n",
       "        vertical-align: top;\n",
       "    }\n",
       "\n",
       "    .dataframe thead th {\n",
       "        text-align: right;\n",
       "    }\n",
       "</style>\n",
       "<table border=\"1\" class=\"dataframe\">\n",
       "  <thead>\n",
       "    <tr style=\"text-align: right;\">\n",
       "      <th></th>\n",
       "      <th>the</th>\n",
       "      <th>to</th>\n",
       "      <th>ect</th>\n",
       "      <th>and</th>\n",
       "      <th>for</th>\n",
       "      <th>of</th>\n",
       "      <th>a</th>\n",
       "      <th>you</th>\n",
       "      <th>hou</th>\n",
       "      <th>in</th>\n",
       "      <th>...</th>\n",
       "      <th>enhancements</th>\n",
       "      <th>connevey</th>\n",
       "      <th>jay</th>\n",
       "      <th>valued</th>\n",
       "      <th>lay</th>\n",
       "      <th>infrastructure</th>\n",
       "      <th>military</th>\n",
       "      <th>allowing</th>\n",
       "      <th>ff</th>\n",
       "      <th>dry</th>\n",
       "    </tr>\n",
       "  </thead>\n",
       "  <tbody>\n",
       "    <tr>\n",
       "      <th>0</th>\n",
       "      <td>0</td>\n",
       "      <td>0</td>\n",
       "      <td>1</td>\n",
       "      <td>0</td>\n",
       "      <td>0</td>\n",
       "      <td>0</td>\n",
       "      <td>2</td>\n",
       "      <td>0</td>\n",
       "      <td>0</td>\n",
       "      <td>0</td>\n",
       "      <td>...</td>\n",
       "      <td>0</td>\n",
       "      <td>0</td>\n",
       "      <td>0</td>\n",
       "      <td>0</td>\n",
       "      <td>0</td>\n",
       "      <td>0</td>\n",
       "      <td>0</td>\n",
       "      <td>0</td>\n",
       "      <td>0</td>\n",
       "      <td>0</td>\n",
       "    </tr>\n",
       "    <tr>\n",
       "      <th>1</th>\n",
       "      <td>8</td>\n",
       "      <td>13</td>\n",
       "      <td>24</td>\n",
       "      <td>6</td>\n",
       "      <td>6</td>\n",
       "      <td>2</td>\n",
       "      <td>102</td>\n",
       "      <td>1</td>\n",
       "      <td>27</td>\n",
       "      <td>18</td>\n",
       "      <td>...</td>\n",
       "      <td>0</td>\n",
       "      <td>0</td>\n",
       "      <td>0</td>\n",
       "      <td>0</td>\n",
       "      <td>0</td>\n",
       "      <td>0</td>\n",
       "      <td>0</td>\n",
       "      <td>0</td>\n",
       "      <td>1</td>\n",
       "      <td>0</td>\n",
       "    </tr>\n",
       "    <tr>\n",
       "      <th>2</th>\n",
       "      <td>0</td>\n",
       "      <td>0</td>\n",
       "      <td>1</td>\n",
       "      <td>0</td>\n",
       "      <td>0</td>\n",
       "      <td>0</td>\n",
       "      <td>8</td>\n",
       "      <td>0</td>\n",
       "      <td>0</td>\n",
       "      <td>4</td>\n",
       "      <td>...</td>\n",
       "      <td>0</td>\n",
       "      <td>0</td>\n",
       "      <td>0</td>\n",
       "      <td>0</td>\n",
       "      <td>0</td>\n",
       "      <td>0</td>\n",
       "      <td>0</td>\n",
       "      <td>0</td>\n",
       "      <td>0</td>\n",
       "      <td>0</td>\n",
       "    </tr>\n",
       "    <tr>\n",
       "      <th>3</th>\n",
       "      <td>0</td>\n",
       "      <td>5</td>\n",
       "      <td>22</td>\n",
       "      <td>0</td>\n",
       "      <td>5</td>\n",
       "      <td>1</td>\n",
       "      <td>51</td>\n",
       "      <td>2</td>\n",
       "      <td>10</td>\n",
       "      <td>1</td>\n",
       "      <td>...</td>\n",
       "      <td>0</td>\n",
       "      <td>0</td>\n",
       "      <td>0</td>\n",
       "      <td>0</td>\n",
       "      <td>0</td>\n",
       "      <td>0</td>\n",
       "      <td>0</td>\n",
       "      <td>0</td>\n",
       "      <td>0</td>\n",
       "      <td>0</td>\n",
       "    </tr>\n",
       "    <tr>\n",
       "      <th>4</th>\n",
       "      <td>7</td>\n",
       "      <td>6</td>\n",
       "      <td>17</td>\n",
       "      <td>1</td>\n",
       "      <td>5</td>\n",
       "      <td>2</td>\n",
       "      <td>57</td>\n",
       "      <td>0</td>\n",
       "      <td>9</td>\n",
       "      <td>3</td>\n",
       "      <td>...</td>\n",
       "      <td>0</td>\n",
       "      <td>0</td>\n",
       "      <td>0</td>\n",
       "      <td>0</td>\n",
       "      <td>0</td>\n",
       "      <td>0</td>\n",
       "      <td>0</td>\n",
       "      <td>0</td>\n",
       "      <td>1</td>\n",
       "      <td>0</td>\n",
       "    </tr>\n",
       "    <tr>\n",
       "      <th>...</th>\n",
       "      <td>...</td>\n",
       "      <td>...</td>\n",
       "      <td>...</td>\n",
       "      <td>...</td>\n",
       "      <td>...</td>\n",
       "      <td>...</td>\n",
       "      <td>...</td>\n",
       "      <td>...</td>\n",
       "      <td>...</td>\n",
       "      <td>...</td>\n",
       "      <td>...</td>\n",
       "      <td>...</td>\n",
       "      <td>...</td>\n",
       "      <td>...</td>\n",
       "      <td>...</td>\n",
       "      <td>...</td>\n",
       "      <td>...</td>\n",
       "      <td>...</td>\n",
       "      <td>...</td>\n",
       "      <td>...</td>\n",
       "      <td>...</td>\n",
       "    </tr>\n",
       "    <tr>\n",
       "      <th>5167</th>\n",
       "      <td>2</td>\n",
       "      <td>2</td>\n",
       "      <td>2</td>\n",
       "      <td>3</td>\n",
       "      <td>0</td>\n",
       "      <td>0</td>\n",
       "      <td>32</td>\n",
       "      <td>0</td>\n",
       "      <td>0</td>\n",
       "      <td>5</td>\n",
       "      <td>...</td>\n",
       "      <td>0</td>\n",
       "      <td>0</td>\n",
       "      <td>0</td>\n",
       "      <td>0</td>\n",
       "      <td>0</td>\n",
       "      <td>0</td>\n",
       "      <td>0</td>\n",
       "      <td>0</td>\n",
       "      <td>0</td>\n",
       "      <td>0</td>\n",
       "    </tr>\n",
       "    <tr>\n",
       "      <th>5168</th>\n",
       "      <td>35</td>\n",
       "      <td>27</td>\n",
       "      <td>11</td>\n",
       "      <td>2</td>\n",
       "      <td>6</td>\n",
       "      <td>5</td>\n",
       "      <td>151</td>\n",
       "      <td>4</td>\n",
       "      <td>3</td>\n",
       "      <td>23</td>\n",
       "      <td>...</td>\n",
       "      <td>0</td>\n",
       "      <td>0</td>\n",
       "      <td>0</td>\n",
       "      <td>0</td>\n",
       "      <td>0</td>\n",
       "      <td>0</td>\n",
       "      <td>0</td>\n",
       "      <td>0</td>\n",
       "      <td>1</td>\n",
       "      <td>0</td>\n",
       "    </tr>\n",
       "    <tr>\n",
       "      <th>5169</th>\n",
       "      <td>0</td>\n",
       "      <td>0</td>\n",
       "      <td>1</td>\n",
       "      <td>1</td>\n",
       "      <td>0</td>\n",
       "      <td>0</td>\n",
       "      <td>11</td>\n",
       "      <td>0</td>\n",
       "      <td>0</td>\n",
       "      <td>1</td>\n",
       "      <td>...</td>\n",
       "      <td>0</td>\n",
       "      <td>0</td>\n",
       "      <td>0</td>\n",
       "      <td>0</td>\n",
       "      <td>0</td>\n",
       "      <td>0</td>\n",
       "      <td>0</td>\n",
       "      <td>0</td>\n",
       "      <td>0</td>\n",
       "      <td>0</td>\n",
       "    </tr>\n",
       "    <tr>\n",
       "      <th>5170</th>\n",
       "      <td>2</td>\n",
       "      <td>7</td>\n",
       "      <td>1</td>\n",
       "      <td>0</td>\n",
       "      <td>2</td>\n",
       "      <td>1</td>\n",
       "      <td>28</td>\n",
       "      <td>2</td>\n",
       "      <td>0</td>\n",
       "      <td>8</td>\n",
       "      <td>...</td>\n",
       "      <td>0</td>\n",
       "      <td>0</td>\n",
       "      <td>0</td>\n",
       "      <td>0</td>\n",
       "      <td>0</td>\n",
       "      <td>0</td>\n",
       "      <td>0</td>\n",
       "      <td>0</td>\n",
       "      <td>1</td>\n",
       "      <td>0</td>\n",
       "    </tr>\n",
       "    <tr>\n",
       "      <th>5171</th>\n",
       "      <td>22</td>\n",
       "      <td>24</td>\n",
       "      <td>5</td>\n",
       "      <td>1</td>\n",
       "      <td>6</td>\n",
       "      <td>5</td>\n",
       "      <td>148</td>\n",
       "      <td>8</td>\n",
       "      <td>2</td>\n",
       "      <td>23</td>\n",
       "      <td>...</td>\n",
       "      <td>0</td>\n",
       "      <td>0</td>\n",
       "      <td>0</td>\n",
       "      <td>0</td>\n",
       "      <td>0</td>\n",
       "      <td>0</td>\n",
       "      <td>0</td>\n",
       "      <td>0</td>\n",
       "      <td>0</td>\n",
       "      <td>0</td>\n",
       "    </tr>\n",
       "  </tbody>\n",
       "</table>\n",
       "<p>5172 rows × 3000 columns</p>\n",
       "</div>"
      ],
      "text/plain": [
       "      the  to  ect  and  for  of    a  you  hou  in  ...  enhancements  \\\n",
       "0       0   0    1    0    0   0    2    0    0   0  ...             0   \n",
       "1       8  13   24    6    6   2  102    1   27  18  ...             0   \n",
       "2       0   0    1    0    0   0    8    0    0   4  ...             0   \n",
       "3       0   5   22    0    5   1   51    2   10   1  ...             0   \n",
       "4       7   6   17    1    5   2   57    0    9   3  ...             0   \n",
       "...   ...  ..  ...  ...  ...  ..  ...  ...  ...  ..  ...           ...   \n",
       "5167    2   2    2    3    0   0   32    0    0   5  ...             0   \n",
       "5168   35  27   11    2    6   5  151    4    3  23  ...             0   \n",
       "5169    0   0    1    1    0   0   11    0    0   1  ...             0   \n",
       "5170    2   7    1    0    2   1   28    2    0   8  ...             0   \n",
       "5171   22  24    5    1    6   5  148    8    2  23  ...             0   \n",
       "\n",
       "      connevey  jay  valued  lay  infrastructure  military  allowing  ff  dry  \n",
       "0            0    0       0    0               0         0         0   0    0  \n",
       "1            0    0       0    0               0         0         0   1    0  \n",
       "2            0    0       0    0               0         0         0   0    0  \n",
       "3            0    0       0    0               0         0         0   0    0  \n",
       "4            0    0       0    0               0         0         0   1    0  \n",
       "...        ...  ...     ...  ...             ...       ...       ...  ..  ...  \n",
       "5167         0    0       0    0               0         0         0   0    0  \n",
       "5168         0    0       0    0               0         0         0   1    0  \n",
       "5169         0    0       0    0               0         0         0   0    0  \n",
       "5170         0    0       0    0               0         0         0   1    0  \n",
       "5171         0    0       0    0               0         0         0   0    0  \n",
       "\n",
       "[5172 rows x 3000 columns]"
      ]
     },
     "execution_count": 6,
     "metadata": {},
     "output_type": "execute_result"
    }
   ],
   "source": [
    "raw_x = raw_df.copy().drop(columns=[raw_df.columns[0],raw_df.columns[-1]])\n",
    "raw_y = raw_df['Prediction'].copy()\n",
    "raw_x"
   ]
  },
  {
   "cell_type": "code",
   "execution_count": 7,
   "metadata": {},
   "outputs": [
    {
     "data": {
      "text/plain": [
       "0       0\n",
       "1       0\n",
       "2       0\n",
       "3       0\n",
       "4       0\n",
       "       ..\n",
       "5167    0\n",
       "5168    0\n",
       "5169    1\n",
       "5170    1\n",
       "5171    0\n",
       "Name: Prediction, Length: 5172, dtype: int64"
      ]
     },
     "execution_count": 7,
     "metadata": {},
     "output_type": "execute_result"
    }
   ],
   "source": [
    "# 0 = not spam, 1 = spam\n",
    "raw_y"
   ]
  },
  {
   "cell_type": "markdown",
   "metadata": {},
   "source": [
    "#find nan value in columns\n",
    "col_nan = [col for col in raw_x.columns if any(raw_x[col].isna())]\n",
    "col_nan"
   ]
  },
  {
   "cell_type": "markdown",
   "metadata": {},
   "source": [
    "### Prepare Y"
   ]
  },
  {
   "cell_type": "code",
   "execution_count": 8,
   "metadata": {},
   "outputs": [],
   "source": [
    "#check if columns have nan values\n",
    "for i in raw_df.columns[1:]:\n",
    "    if any(raw_df[i].isna()): print(\"col = {} has NaN value\".format(i))\n",
    "    if any(raw_df[i].isnull()): print(\"col = {} has Null value\".format(i))"
   ]
  },
  {
   "cell_type": "code",
   "execution_count": 9,
   "metadata": {},
   "outputs": [
    {
     "data": {
      "text/html": [
       "<div>\n",
       "<style scoped>\n",
       "    .dataframe tbody tr th:only-of-type {\n",
       "        vertical-align: middle;\n",
       "    }\n",
       "\n",
       "    .dataframe tbody tr th {\n",
       "        vertical-align: top;\n",
       "    }\n",
       "\n",
       "    .dataframe thead th {\n",
       "        text-align: right;\n",
       "    }\n",
       "</style>\n",
       "<table border=\"1\" class=\"dataframe\">\n",
       "  <thead>\n",
       "    <tr style=\"text-align: right;\">\n",
       "      <th></th>\n",
       "      <th>the</th>\n",
       "      <th>to</th>\n",
       "      <th>ect</th>\n",
       "      <th>and</th>\n",
       "      <th>for</th>\n",
       "      <th>of</th>\n",
       "      <th>a</th>\n",
       "      <th>you</th>\n",
       "      <th>hou</th>\n",
       "      <th>in</th>\n",
       "      <th>...</th>\n",
       "      <th>connevey</th>\n",
       "      <th>jay</th>\n",
       "      <th>valued</th>\n",
       "      <th>lay</th>\n",
       "      <th>infrastructure</th>\n",
       "      <th>military</th>\n",
       "      <th>allowing</th>\n",
       "      <th>ff</th>\n",
       "      <th>dry</th>\n",
       "      <th>Prediction</th>\n",
       "    </tr>\n",
       "  </thead>\n",
       "  <tbody>\n",
       "    <tr>\n",
       "      <th>count</th>\n",
       "      <td>5172.000000</td>\n",
       "      <td>5172.000000</td>\n",
       "      <td>5172.000000</td>\n",
       "      <td>5172.000000</td>\n",
       "      <td>5172.000000</td>\n",
       "      <td>5172.000000</td>\n",
       "      <td>5172.000000</td>\n",
       "      <td>5172.000000</td>\n",
       "      <td>5172.000000</td>\n",
       "      <td>5172.000000</td>\n",
       "      <td>...</td>\n",
       "      <td>5172.000000</td>\n",
       "      <td>5172.000000</td>\n",
       "      <td>5172.000000</td>\n",
       "      <td>5172.000000</td>\n",
       "      <td>5172.000000</td>\n",
       "      <td>5172.000000</td>\n",
       "      <td>5172.000000</td>\n",
       "      <td>5172.000000</td>\n",
       "      <td>5172.000000</td>\n",
       "      <td>5172.000000</td>\n",
       "    </tr>\n",
       "    <tr>\n",
       "      <th>mean</th>\n",
       "      <td>6.640565</td>\n",
       "      <td>6.188128</td>\n",
       "      <td>5.143852</td>\n",
       "      <td>3.075599</td>\n",
       "      <td>3.124710</td>\n",
       "      <td>2.627030</td>\n",
       "      <td>55.517401</td>\n",
       "      <td>2.466551</td>\n",
       "      <td>2.024362</td>\n",
       "      <td>10.600155</td>\n",
       "      <td>...</td>\n",
       "      <td>0.005027</td>\n",
       "      <td>0.012568</td>\n",
       "      <td>0.010634</td>\n",
       "      <td>0.098028</td>\n",
       "      <td>0.004254</td>\n",
       "      <td>0.006574</td>\n",
       "      <td>0.004060</td>\n",
       "      <td>0.914733</td>\n",
       "      <td>0.006961</td>\n",
       "      <td>0.290023</td>\n",
       "    </tr>\n",
       "    <tr>\n",
       "      <th>std</th>\n",
       "      <td>11.745009</td>\n",
       "      <td>9.534576</td>\n",
       "      <td>14.101142</td>\n",
       "      <td>6.045970</td>\n",
       "      <td>4.680522</td>\n",
       "      <td>6.229845</td>\n",
       "      <td>87.574172</td>\n",
       "      <td>4.314444</td>\n",
       "      <td>6.967878</td>\n",
       "      <td>19.281892</td>\n",
       "      <td>...</td>\n",
       "      <td>0.105788</td>\n",
       "      <td>0.199682</td>\n",
       "      <td>0.116693</td>\n",
       "      <td>0.569532</td>\n",
       "      <td>0.096252</td>\n",
       "      <td>0.138908</td>\n",
       "      <td>0.072145</td>\n",
       "      <td>2.780203</td>\n",
       "      <td>0.098086</td>\n",
       "      <td>0.453817</td>\n",
       "    </tr>\n",
       "    <tr>\n",
       "      <th>min</th>\n",
       "      <td>0.000000</td>\n",
       "      <td>0.000000</td>\n",
       "      <td>1.000000</td>\n",
       "      <td>0.000000</td>\n",
       "      <td>0.000000</td>\n",
       "      <td>0.000000</td>\n",
       "      <td>0.000000</td>\n",
       "      <td>0.000000</td>\n",
       "      <td>0.000000</td>\n",
       "      <td>0.000000</td>\n",
       "      <td>...</td>\n",
       "      <td>0.000000</td>\n",
       "      <td>0.000000</td>\n",
       "      <td>0.000000</td>\n",
       "      <td>0.000000</td>\n",
       "      <td>0.000000</td>\n",
       "      <td>0.000000</td>\n",
       "      <td>0.000000</td>\n",
       "      <td>0.000000</td>\n",
       "      <td>0.000000</td>\n",
       "      <td>0.000000</td>\n",
       "    </tr>\n",
       "    <tr>\n",
       "      <th>25%</th>\n",
       "      <td>0.000000</td>\n",
       "      <td>1.000000</td>\n",
       "      <td>1.000000</td>\n",
       "      <td>0.000000</td>\n",
       "      <td>1.000000</td>\n",
       "      <td>0.000000</td>\n",
       "      <td>12.000000</td>\n",
       "      <td>0.000000</td>\n",
       "      <td>0.000000</td>\n",
       "      <td>1.000000</td>\n",
       "      <td>...</td>\n",
       "      <td>0.000000</td>\n",
       "      <td>0.000000</td>\n",
       "      <td>0.000000</td>\n",
       "      <td>0.000000</td>\n",
       "      <td>0.000000</td>\n",
       "      <td>0.000000</td>\n",
       "      <td>0.000000</td>\n",
       "      <td>0.000000</td>\n",
       "      <td>0.000000</td>\n",
       "      <td>0.000000</td>\n",
       "    </tr>\n",
       "    <tr>\n",
       "      <th>50%</th>\n",
       "      <td>3.000000</td>\n",
       "      <td>3.000000</td>\n",
       "      <td>1.000000</td>\n",
       "      <td>1.000000</td>\n",
       "      <td>2.000000</td>\n",
       "      <td>1.000000</td>\n",
       "      <td>28.000000</td>\n",
       "      <td>1.000000</td>\n",
       "      <td>0.000000</td>\n",
       "      <td>5.000000</td>\n",
       "      <td>...</td>\n",
       "      <td>0.000000</td>\n",
       "      <td>0.000000</td>\n",
       "      <td>0.000000</td>\n",
       "      <td>0.000000</td>\n",
       "      <td>0.000000</td>\n",
       "      <td>0.000000</td>\n",
       "      <td>0.000000</td>\n",
       "      <td>0.000000</td>\n",
       "      <td>0.000000</td>\n",
       "      <td>0.000000</td>\n",
       "    </tr>\n",
       "    <tr>\n",
       "      <th>75%</th>\n",
       "      <td>8.000000</td>\n",
       "      <td>7.000000</td>\n",
       "      <td>4.000000</td>\n",
       "      <td>3.000000</td>\n",
       "      <td>4.000000</td>\n",
       "      <td>2.000000</td>\n",
       "      <td>62.250000</td>\n",
       "      <td>3.000000</td>\n",
       "      <td>1.000000</td>\n",
       "      <td>12.000000</td>\n",
       "      <td>...</td>\n",
       "      <td>0.000000</td>\n",
       "      <td>0.000000</td>\n",
       "      <td>0.000000</td>\n",
       "      <td>0.000000</td>\n",
       "      <td>0.000000</td>\n",
       "      <td>0.000000</td>\n",
       "      <td>0.000000</td>\n",
       "      <td>1.000000</td>\n",
       "      <td>0.000000</td>\n",
       "      <td>1.000000</td>\n",
       "    </tr>\n",
       "    <tr>\n",
       "      <th>max</th>\n",
       "      <td>210.000000</td>\n",
       "      <td>132.000000</td>\n",
       "      <td>344.000000</td>\n",
       "      <td>89.000000</td>\n",
       "      <td>47.000000</td>\n",
       "      <td>77.000000</td>\n",
       "      <td>1898.000000</td>\n",
       "      <td>70.000000</td>\n",
       "      <td>167.000000</td>\n",
       "      <td>223.000000</td>\n",
       "      <td>...</td>\n",
       "      <td>4.000000</td>\n",
       "      <td>7.000000</td>\n",
       "      <td>2.000000</td>\n",
       "      <td>12.000000</td>\n",
       "      <td>3.000000</td>\n",
       "      <td>4.000000</td>\n",
       "      <td>3.000000</td>\n",
       "      <td>114.000000</td>\n",
       "      <td>4.000000</td>\n",
       "      <td>1.000000</td>\n",
       "    </tr>\n",
       "  </tbody>\n",
       "</table>\n",
       "<p>8 rows × 3001 columns</p>\n",
       "</div>"
      ],
      "text/plain": [
       "               the           to          ect          and          for  \\\n",
       "count  5172.000000  5172.000000  5172.000000  5172.000000  5172.000000   \n",
       "mean      6.640565     6.188128     5.143852     3.075599     3.124710   \n",
       "std      11.745009     9.534576    14.101142     6.045970     4.680522   \n",
       "min       0.000000     0.000000     1.000000     0.000000     0.000000   \n",
       "25%       0.000000     1.000000     1.000000     0.000000     1.000000   \n",
       "50%       3.000000     3.000000     1.000000     1.000000     2.000000   \n",
       "75%       8.000000     7.000000     4.000000     3.000000     4.000000   \n",
       "max     210.000000   132.000000   344.000000    89.000000    47.000000   \n",
       "\n",
       "                of            a          you          hou           in  ...  \\\n",
       "count  5172.000000  5172.000000  5172.000000  5172.000000  5172.000000  ...   \n",
       "mean      2.627030    55.517401     2.466551     2.024362    10.600155  ...   \n",
       "std       6.229845    87.574172     4.314444     6.967878    19.281892  ...   \n",
       "min       0.000000     0.000000     0.000000     0.000000     0.000000  ...   \n",
       "25%       0.000000    12.000000     0.000000     0.000000     1.000000  ...   \n",
       "50%       1.000000    28.000000     1.000000     0.000000     5.000000  ...   \n",
       "75%       2.000000    62.250000     3.000000     1.000000    12.000000  ...   \n",
       "max      77.000000  1898.000000    70.000000   167.000000   223.000000  ...   \n",
       "\n",
       "          connevey          jay       valued          lay  infrastructure  \\\n",
       "count  5172.000000  5172.000000  5172.000000  5172.000000     5172.000000   \n",
       "mean      0.005027     0.012568     0.010634     0.098028        0.004254   \n",
       "std       0.105788     0.199682     0.116693     0.569532        0.096252   \n",
       "min       0.000000     0.000000     0.000000     0.000000        0.000000   \n",
       "25%       0.000000     0.000000     0.000000     0.000000        0.000000   \n",
       "50%       0.000000     0.000000     0.000000     0.000000        0.000000   \n",
       "75%       0.000000     0.000000     0.000000     0.000000        0.000000   \n",
       "max       4.000000     7.000000     2.000000    12.000000        3.000000   \n",
       "\n",
       "          military     allowing           ff          dry   Prediction  \n",
       "count  5172.000000  5172.000000  5172.000000  5172.000000  5172.000000  \n",
       "mean      0.006574     0.004060     0.914733     0.006961     0.290023  \n",
       "std       0.138908     0.072145     2.780203     0.098086     0.453817  \n",
       "min       0.000000     0.000000     0.000000     0.000000     0.000000  \n",
       "25%       0.000000     0.000000     0.000000     0.000000     0.000000  \n",
       "50%       0.000000     0.000000     0.000000     0.000000     0.000000  \n",
       "75%       0.000000     0.000000     1.000000     0.000000     1.000000  \n",
       "max       4.000000     3.000000   114.000000     4.000000     1.000000  \n",
       "\n",
       "[8 rows x 3001 columns]"
      ]
     },
     "execution_count": 9,
     "metadata": {},
     "output_type": "execute_result"
    }
   ],
   "source": [
    "raw_df.describe()"
   ]
  },
  {
   "cell_type": "code",
   "execution_count": 10,
   "metadata": {},
   "outputs": [
    {
     "name": "stdout",
     "output_type": "stream",
     "text": [
      "x axis: [0 1]\n",
      "y axis:\n",
      "0    3672\n",
      "1    1500\n",
      "Name: Prediction, dtype: int64\n"
     ]
    }
   ],
   "source": [
    "print(\"x axis: {}\\ny axis:\\n{}\".format(raw_y.unique(),raw_y.value_counts()))"
   ]
  },
  {
   "cell_type": "code",
   "execution_count": 11,
   "metadata": {},
   "outputs": [
    {
     "data": {
      "application/vnd.plotly.v1+json": {
       "config": {
        "plotlyServerURL": "https://plot.ly"
       },
       "data": [
        {
         "alignmentgroup": "True",
         "hovertemplate": "x=%{x}<br>y=%{y}<br>color=%{marker.color}<extra></extra>",
         "legendgroup": "",
         "marker": {
          "color": [
           3672,
           1500
          ],
          "coloraxis": "coloraxis",
          "pattern": {
           "shape": ""
          }
         },
         "name": "",
         "offsetgroup": "",
         "orientation": "v",
         "showlegend": false,
         "textposition": "auto",
         "type": "bar",
         "x": [
          0,
          1
         ],
         "xaxis": "x",
         "y": [
          3672,
          1500
         ],
         "yaxis": "y"
        }
       ],
       "layout": {
        "barmode": "relative",
        "coloraxis": {
         "colorbar": {
          "title": {
           "text": "color"
          }
         },
         "colorscale": [
          [
           0,
           "#0d0887"
          ],
          [
           0.1111111111111111,
           "#46039f"
          ],
          [
           0.2222222222222222,
           "#7201a8"
          ],
          [
           0.3333333333333333,
           "#9c179e"
          ],
          [
           0.4444444444444444,
           "#bd3786"
          ],
          [
           0.5555555555555556,
           "#d8576b"
          ],
          [
           0.6666666666666666,
           "#ed7953"
          ],
          [
           0.7777777777777778,
           "#fb9f3a"
          ],
          [
           0.8888888888888888,
           "#fdca26"
          ],
          [
           1,
           "#f0f921"
          ]
         ]
        },
        "legend": {
         "tracegroupgap": 0
        },
        "margin": {
         "t": 60
        },
        "template": {
         "data": {
          "bar": [
           {
            "error_x": {
             "color": "#2a3f5f"
            },
            "error_y": {
             "color": "#2a3f5f"
            },
            "marker": {
             "line": {
              "color": "#E5ECF6",
              "width": 0.5
             },
             "pattern": {
              "fillmode": "overlay",
              "size": 10,
              "solidity": 0.2
             }
            },
            "type": "bar"
           }
          ],
          "barpolar": [
           {
            "marker": {
             "line": {
              "color": "#E5ECF6",
              "width": 0.5
             },
             "pattern": {
              "fillmode": "overlay",
              "size": 10,
              "solidity": 0.2
             }
            },
            "type": "barpolar"
           }
          ],
          "carpet": [
           {
            "aaxis": {
             "endlinecolor": "#2a3f5f",
             "gridcolor": "white",
             "linecolor": "white",
             "minorgridcolor": "white",
             "startlinecolor": "#2a3f5f"
            },
            "baxis": {
             "endlinecolor": "#2a3f5f",
             "gridcolor": "white",
             "linecolor": "white",
             "minorgridcolor": "white",
             "startlinecolor": "#2a3f5f"
            },
            "type": "carpet"
           }
          ],
          "choropleth": [
           {
            "colorbar": {
             "outlinewidth": 0,
             "ticks": ""
            },
            "type": "choropleth"
           }
          ],
          "contour": [
           {
            "colorbar": {
             "outlinewidth": 0,
             "ticks": ""
            },
            "colorscale": [
             [
              0,
              "#0d0887"
             ],
             [
              0.1111111111111111,
              "#46039f"
             ],
             [
              0.2222222222222222,
              "#7201a8"
             ],
             [
              0.3333333333333333,
              "#9c179e"
             ],
             [
              0.4444444444444444,
              "#bd3786"
             ],
             [
              0.5555555555555556,
              "#d8576b"
             ],
             [
              0.6666666666666666,
              "#ed7953"
             ],
             [
              0.7777777777777778,
              "#fb9f3a"
             ],
             [
              0.8888888888888888,
              "#fdca26"
             ],
             [
              1,
              "#f0f921"
             ]
            ],
            "type": "contour"
           }
          ],
          "contourcarpet": [
           {
            "colorbar": {
             "outlinewidth": 0,
             "ticks": ""
            },
            "type": "contourcarpet"
           }
          ],
          "heatmap": [
           {
            "colorbar": {
             "outlinewidth": 0,
             "ticks": ""
            },
            "colorscale": [
             [
              0,
              "#0d0887"
             ],
             [
              0.1111111111111111,
              "#46039f"
             ],
             [
              0.2222222222222222,
              "#7201a8"
             ],
             [
              0.3333333333333333,
              "#9c179e"
             ],
             [
              0.4444444444444444,
              "#bd3786"
             ],
             [
              0.5555555555555556,
              "#d8576b"
             ],
             [
              0.6666666666666666,
              "#ed7953"
             ],
             [
              0.7777777777777778,
              "#fb9f3a"
             ],
             [
              0.8888888888888888,
              "#fdca26"
             ],
             [
              1,
              "#f0f921"
             ]
            ],
            "type": "heatmap"
           }
          ],
          "heatmapgl": [
           {
            "colorbar": {
             "outlinewidth": 0,
             "ticks": ""
            },
            "colorscale": [
             [
              0,
              "#0d0887"
             ],
             [
              0.1111111111111111,
              "#46039f"
             ],
             [
              0.2222222222222222,
              "#7201a8"
             ],
             [
              0.3333333333333333,
              "#9c179e"
             ],
             [
              0.4444444444444444,
              "#bd3786"
             ],
             [
              0.5555555555555556,
              "#d8576b"
             ],
             [
              0.6666666666666666,
              "#ed7953"
             ],
             [
              0.7777777777777778,
              "#fb9f3a"
             ],
             [
              0.8888888888888888,
              "#fdca26"
             ],
             [
              1,
              "#f0f921"
             ]
            ],
            "type": "heatmapgl"
           }
          ],
          "histogram": [
           {
            "marker": {
             "pattern": {
              "fillmode": "overlay",
              "size": 10,
              "solidity": 0.2
             }
            },
            "type": "histogram"
           }
          ],
          "histogram2d": [
           {
            "colorbar": {
             "outlinewidth": 0,
             "ticks": ""
            },
            "colorscale": [
             [
              0,
              "#0d0887"
             ],
             [
              0.1111111111111111,
              "#46039f"
             ],
             [
              0.2222222222222222,
              "#7201a8"
             ],
             [
              0.3333333333333333,
              "#9c179e"
             ],
             [
              0.4444444444444444,
              "#bd3786"
             ],
             [
              0.5555555555555556,
              "#d8576b"
             ],
             [
              0.6666666666666666,
              "#ed7953"
             ],
             [
              0.7777777777777778,
              "#fb9f3a"
             ],
             [
              0.8888888888888888,
              "#fdca26"
             ],
             [
              1,
              "#f0f921"
             ]
            ],
            "type": "histogram2d"
           }
          ],
          "histogram2dcontour": [
           {
            "colorbar": {
             "outlinewidth": 0,
             "ticks": ""
            },
            "colorscale": [
             [
              0,
              "#0d0887"
             ],
             [
              0.1111111111111111,
              "#46039f"
             ],
             [
              0.2222222222222222,
              "#7201a8"
             ],
             [
              0.3333333333333333,
              "#9c179e"
             ],
             [
              0.4444444444444444,
              "#bd3786"
             ],
             [
              0.5555555555555556,
              "#d8576b"
             ],
             [
              0.6666666666666666,
              "#ed7953"
             ],
             [
              0.7777777777777778,
              "#fb9f3a"
             ],
             [
              0.8888888888888888,
              "#fdca26"
             ],
             [
              1,
              "#f0f921"
             ]
            ],
            "type": "histogram2dcontour"
           }
          ],
          "mesh3d": [
           {
            "colorbar": {
             "outlinewidth": 0,
             "ticks": ""
            },
            "type": "mesh3d"
           }
          ],
          "parcoords": [
           {
            "line": {
             "colorbar": {
              "outlinewidth": 0,
              "ticks": ""
             }
            },
            "type": "parcoords"
           }
          ],
          "pie": [
           {
            "automargin": true,
            "type": "pie"
           }
          ],
          "scatter": [
           {
            "fillpattern": {
             "fillmode": "overlay",
             "size": 10,
             "solidity": 0.2
            },
            "type": "scatter"
           }
          ],
          "scatter3d": [
           {
            "line": {
             "colorbar": {
              "outlinewidth": 0,
              "ticks": ""
             }
            },
            "marker": {
             "colorbar": {
              "outlinewidth": 0,
              "ticks": ""
             }
            },
            "type": "scatter3d"
           }
          ],
          "scattercarpet": [
           {
            "marker": {
             "colorbar": {
              "outlinewidth": 0,
              "ticks": ""
             }
            },
            "type": "scattercarpet"
           }
          ],
          "scattergeo": [
           {
            "marker": {
             "colorbar": {
              "outlinewidth": 0,
              "ticks": ""
             }
            },
            "type": "scattergeo"
           }
          ],
          "scattergl": [
           {
            "marker": {
             "colorbar": {
              "outlinewidth": 0,
              "ticks": ""
             }
            },
            "type": "scattergl"
           }
          ],
          "scattermapbox": [
           {
            "marker": {
             "colorbar": {
              "outlinewidth": 0,
              "ticks": ""
             }
            },
            "type": "scattermapbox"
           }
          ],
          "scatterpolar": [
           {
            "marker": {
             "colorbar": {
              "outlinewidth": 0,
              "ticks": ""
             }
            },
            "type": "scatterpolar"
           }
          ],
          "scatterpolargl": [
           {
            "marker": {
             "colorbar": {
              "outlinewidth": 0,
              "ticks": ""
             }
            },
            "type": "scatterpolargl"
           }
          ],
          "scatterternary": [
           {
            "marker": {
             "colorbar": {
              "outlinewidth": 0,
              "ticks": ""
             }
            },
            "type": "scatterternary"
           }
          ],
          "surface": [
           {
            "colorbar": {
             "outlinewidth": 0,
             "ticks": ""
            },
            "colorscale": [
             [
              0,
              "#0d0887"
             ],
             [
              0.1111111111111111,
              "#46039f"
             ],
             [
              0.2222222222222222,
              "#7201a8"
             ],
             [
              0.3333333333333333,
              "#9c179e"
             ],
             [
              0.4444444444444444,
              "#bd3786"
             ],
             [
              0.5555555555555556,
              "#d8576b"
             ],
             [
              0.6666666666666666,
              "#ed7953"
             ],
             [
              0.7777777777777778,
              "#fb9f3a"
             ],
             [
              0.8888888888888888,
              "#fdca26"
             ],
             [
              1,
              "#f0f921"
             ]
            ],
            "type": "surface"
           }
          ],
          "table": [
           {
            "cells": {
             "fill": {
              "color": "#EBF0F8"
             },
             "line": {
              "color": "white"
             }
            },
            "header": {
             "fill": {
              "color": "#C8D4E3"
             },
             "line": {
              "color": "white"
             }
            },
            "type": "table"
           }
          ]
         },
         "layout": {
          "annotationdefaults": {
           "arrowcolor": "#2a3f5f",
           "arrowhead": 0,
           "arrowwidth": 1
          },
          "autotypenumbers": "strict",
          "coloraxis": {
           "colorbar": {
            "outlinewidth": 0,
            "ticks": ""
           }
          },
          "colorscale": {
           "diverging": [
            [
             0,
             "#8e0152"
            ],
            [
             0.1,
             "#c51b7d"
            ],
            [
             0.2,
             "#de77ae"
            ],
            [
             0.3,
             "#f1b6da"
            ],
            [
             0.4,
             "#fde0ef"
            ],
            [
             0.5,
             "#f7f7f7"
            ],
            [
             0.6,
             "#e6f5d0"
            ],
            [
             0.7,
             "#b8e186"
            ],
            [
             0.8,
             "#7fbc41"
            ],
            [
             0.9,
             "#4d9221"
            ],
            [
             1,
             "#276419"
            ]
           ],
           "sequential": [
            [
             0,
             "#0d0887"
            ],
            [
             0.1111111111111111,
             "#46039f"
            ],
            [
             0.2222222222222222,
             "#7201a8"
            ],
            [
             0.3333333333333333,
             "#9c179e"
            ],
            [
             0.4444444444444444,
             "#bd3786"
            ],
            [
             0.5555555555555556,
             "#d8576b"
            ],
            [
             0.6666666666666666,
             "#ed7953"
            ],
            [
             0.7777777777777778,
             "#fb9f3a"
            ],
            [
             0.8888888888888888,
             "#fdca26"
            ],
            [
             1,
             "#f0f921"
            ]
           ],
           "sequentialminus": [
            [
             0,
             "#0d0887"
            ],
            [
             0.1111111111111111,
             "#46039f"
            ],
            [
             0.2222222222222222,
             "#7201a8"
            ],
            [
             0.3333333333333333,
             "#9c179e"
            ],
            [
             0.4444444444444444,
             "#bd3786"
            ],
            [
             0.5555555555555556,
             "#d8576b"
            ],
            [
             0.6666666666666666,
             "#ed7953"
            ],
            [
             0.7777777777777778,
             "#fb9f3a"
            ],
            [
             0.8888888888888888,
             "#fdca26"
            ],
            [
             1,
             "#f0f921"
            ]
           ]
          },
          "colorway": [
           "#636efa",
           "#EF553B",
           "#00cc96",
           "#ab63fa",
           "#FFA15A",
           "#19d3f3",
           "#FF6692",
           "#B6E880",
           "#FF97FF",
           "#FECB52"
          ],
          "font": {
           "color": "#2a3f5f"
          },
          "geo": {
           "bgcolor": "white",
           "lakecolor": "white",
           "landcolor": "#E5ECF6",
           "showlakes": true,
           "showland": true,
           "subunitcolor": "white"
          },
          "hoverlabel": {
           "align": "left"
          },
          "hovermode": "closest",
          "mapbox": {
           "style": "light"
          },
          "paper_bgcolor": "white",
          "plot_bgcolor": "#E5ECF6",
          "polar": {
           "angularaxis": {
            "gridcolor": "white",
            "linecolor": "white",
            "ticks": ""
           },
           "bgcolor": "#E5ECF6",
           "radialaxis": {
            "gridcolor": "white",
            "linecolor": "white",
            "ticks": ""
           }
          },
          "scene": {
           "xaxis": {
            "backgroundcolor": "#E5ECF6",
            "gridcolor": "white",
            "gridwidth": 2,
            "linecolor": "white",
            "showbackground": true,
            "ticks": "",
            "zerolinecolor": "white"
           },
           "yaxis": {
            "backgroundcolor": "#E5ECF6",
            "gridcolor": "white",
            "gridwidth": 2,
            "linecolor": "white",
            "showbackground": true,
            "ticks": "",
            "zerolinecolor": "white"
           },
           "zaxis": {
            "backgroundcolor": "#E5ECF6",
            "gridcolor": "white",
            "gridwidth": 2,
            "linecolor": "white",
            "showbackground": true,
            "ticks": "",
            "zerolinecolor": "white"
           }
          },
          "shapedefaults": {
           "line": {
            "color": "#2a3f5f"
           }
          },
          "ternary": {
           "aaxis": {
            "gridcolor": "white",
            "linecolor": "white",
            "ticks": ""
           },
           "baxis": {
            "gridcolor": "white",
            "linecolor": "white",
            "ticks": ""
           },
           "bgcolor": "#E5ECF6",
           "caxis": {
            "gridcolor": "white",
            "linecolor": "white",
            "ticks": ""
           }
          },
          "title": {
           "x": 0.05
          },
          "xaxis": {
           "automargin": true,
           "gridcolor": "white",
           "linecolor": "white",
           "ticks": "",
           "title": {
            "standoff": 15
           },
           "zerolinecolor": "white",
           "zerolinewidth": 2
          },
          "yaxis": {
           "automargin": true,
           "gridcolor": "white",
           "linecolor": "white",
           "ticks": "",
           "title": {
            "standoff": 15
           },
           "zerolinecolor": "white",
           "zerolinewidth": 2
          }
         }
        },
        "xaxis": {
         "anchor": "y",
         "domain": [
          0,
          1
         ],
         "title": {
          "text": "x"
         }
        },
        "yaxis": {
         "anchor": "x",
         "domain": [
          0,
          1
         ],
         "range": [
          0,
          5200
         ],
         "title": {
          "text": "y"
         }
        }
       }
      }
     },
     "metadata": {},
     "output_type": "display_data"
    }
   ],
   "source": [
    "#Visualize bar graph of number of samples for spam prediction\n",
    "fig = px.bar(data_frame=raw_y,x=raw_y.unique(),y=raw_y.value_counts(),color=raw_y.value_counts(),range_y=[0.0,5200])\n",
    "fig.show()"
   ]
  },
  {
   "cell_type": "markdown",
   "metadata": {},
   "source": [
    "### Prepare X"
   ]
  },
  {
   "cell_type": "code",
   "execution_count": 12,
   "metadata": {},
   "outputs": [
    {
     "data": {
      "text/html": [
       "<div>\n",
       "<style scoped>\n",
       "    .dataframe tbody tr th:only-of-type {\n",
       "        vertical-align: middle;\n",
       "    }\n",
       "\n",
       "    .dataframe tbody tr th {\n",
       "        vertical-align: top;\n",
       "    }\n",
       "\n",
       "    .dataframe thead th {\n",
       "        text-align: right;\n",
       "    }\n",
       "</style>\n",
       "<table border=\"1\" class=\"dataframe\">\n",
       "  <thead>\n",
       "    <tr style=\"text-align: right;\">\n",
       "      <th></th>\n",
       "      <th>the</th>\n",
       "      <th>to</th>\n",
       "      <th>ect</th>\n",
       "      <th>and</th>\n",
       "      <th>for</th>\n",
       "      <th>of</th>\n",
       "      <th>a</th>\n",
       "      <th>you</th>\n",
       "      <th>hou</th>\n",
       "      <th>in</th>\n",
       "      <th>...</th>\n",
       "      <th>enhancements</th>\n",
       "      <th>connevey</th>\n",
       "      <th>jay</th>\n",
       "      <th>valued</th>\n",
       "      <th>lay</th>\n",
       "      <th>infrastructure</th>\n",
       "      <th>military</th>\n",
       "      <th>allowing</th>\n",
       "      <th>ff</th>\n",
       "      <th>dry</th>\n",
       "    </tr>\n",
       "  </thead>\n",
       "  <tbody>\n",
       "    <tr>\n",
       "      <th>0</th>\n",
       "      <td>-0.565449</td>\n",
       "      <td>-0.649083</td>\n",
       "      <td>-0.293895</td>\n",
       "      <td>-0.508752</td>\n",
       "      <td>-0.667663</td>\n",
       "      <td>-0.421725</td>\n",
       "      <td>-0.611169</td>\n",
       "      <td>-0.571751</td>\n",
       "      <td>-0.290556</td>\n",
       "      <td>-0.549800</td>\n",
       "      <td>...</td>\n",
       "      <td>-0.02919</td>\n",
       "      <td>-0.047525</td>\n",
       "      <td>-0.062944</td>\n",
       "      <td>-0.091138</td>\n",
       "      <td>-0.172137</td>\n",
       "      <td>-0.044197</td>\n",
       "      <td>-0.04733</td>\n",
       "      <td>-0.056285</td>\n",
       "      <td>-0.329048</td>\n",
       "      <td>-0.070971</td>\n",
       "    </tr>\n",
       "    <tr>\n",
       "      <th>1</th>\n",
       "      <td>0.115757</td>\n",
       "      <td>0.714508</td>\n",
       "      <td>1.337337</td>\n",
       "      <td>0.483741</td>\n",
       "      <td>0.614369</td>\n",
       "      <td>-0.100659</td>\n",
       "      <td>0.530831</td>\n",
       "      <td>-0.339949</td>\n",
       "      <td>3.584743</td>\n",
       "      <td>0.383809</td>\n",
       "      <td>...</td>\n",
       "      <td>-0.02919</td>\n",
       "      <td>-0.047525</td>\n",
       "      <td>-0.062944</td>\n",
       "      <td>-0.091138</td>\n",
       "      <td>-0.172137</td>\n",
       "      <td>-0.044197</td>\n",
       "      <td>-0.04733</td>\n",
       "      <td>-0.056285</td>\n",
       "      <td>0.030672</td>\n",
       "      <td>-0.070971</td>\n",
       "    </tr>\n",
       "    <tr>\n",
       "      <th>2</th>\n",
       "      <td>-0.565449</td>\n",
       "      <td>-0.649083</td>\n",
       "      <td>-0.293895</td>\n",
       "      <td>-0.508752</td>\n",
       "      <td>-0.667663</td>\n",
       "      <td>-0.421725</td>\n",
       "      <td>-0.542649</td>\n",
       "      <td>-0.571751</td>\n",
       "      <td>-0.290556</td>\n",
       "      <td>-0.342331</td>\n",
       "      <td>...</td>\n",
       "      <td>-0.02919</td>\n",
       "      <td>-0.047525</td>\n",
       "      <td>-0.062944</td>\n",
       "      <td>-0.091138</td>\n",
       "      <td>-0.172137</td>\n",
       "      <td>-0.044197</td>\n",
       "      <td>-0.04733</td>\n",
       "      <td>-0.056285</td>\n",
       "      <td>-0.329048</td>\n",
       "      <td>-0.070971</td>\n",
       "    </tr>\n",
       "    <tr>\n",
       "      <th>3</th>\n",
       "      <td>-0.565449</td>\n",
       "      <td>-0.124625</td>\n",
       "      <td>1.195490</td>\n",
       "      <td>-0.508752</td>\n",
       "      <td>0.400697</td>\n",
       "      <td>-0.261192</td>\n",
       "      <td>-0.051589</td>\n",
       "      <td>-0.108147</td>\n",
       "      <td>1.144740</td>\n",
       "      <td>-0.497933</td>\n",
       "      <td>...</td>\n",
       "      <td>-0.02919</td>\n",
       "      <td>-0.047525</td>\n",
       "      <td>-0.062944</td>\n",
       "      <td>-0.091138</td>\n",
       "      <td>-0.172137</td>\n",
       "      <td>-0.044197</td>\n",
       "      <td>-0.04733</td>\n",
       "      <td>-0.056285</td>\n",
       "      <td>-0.329048</td>\n",
       "      <td>-0.070971</td>\n",
       "    </tr>\n",
       "    <tr>\n",
       "      <th>4</th>\n",
       "      <td>0.030606</td>\n",
       "      <td>-0.019733</td>\n",
       "      <td>0.840875</td>\n",
       "      <td>-0.343336</td>\n",
       "      <td>0.400697</td>\n",
       "      <td>-0.100659</td>\n",
       "      <td>0.016931</td>\n",
       "      <td>-0.571751</td>\n",
       "      <td>1.001210</td>\n",
       "      <td>-0.394198</td>\n",
       "      <td>...</td>\n",
       "      <td>-0.02919</td>\n",
       "      <td>-0.047525</td>\n",
       "      <td>-0.062944</td>\n",
       "      <td>-0.091138</td>\n",
       "      <td>-0.172137</td>\n",
       "      <td>-0.044197</td>\n",
       "      <td>-0.04733</td>\n",
       "      <td>-0.056285</td>\n",
       "      <td>0.030672</td>\n",
       "      <td>-0.070971</td>\n",
       "    </tr>\n",
       "    <tr>\n",
       "      <th>...</th>\n",
       "      <td>...</td>\n",
       "      <td>...</td>\n",
       "      <td>...</td>\n",
       "      <td>...</td>\n",
       "      <td>...</td>\n",
       "      <td>...</td>\n",
       "      <td>...</td>\n",
       "      <td>...</td>\n",
       "      <td>...</td>\n",
       "      <td>...</td>\n",
       "      <td>...</td>\n",
       "      <td>...</td>\n",
       "      <td>...</td>\n",
       "      <td>...</td>\n",
       "      <td>...</td>\n",
       "      <td>...</td>\n",
       "      <td>...</td>\n",
       "      <td>...</td>\n",
       "      <td>...</td>\n",
       "      <td>...</td>\n",
       "      <td>...</td>\n",
       "    </tr>\n",
       "    <tr>\n",
       "      <th>5167</th>\n",
       "      <td>-0.395148</td>\n",
       "      <td>-0.439299</td>\n",
       "      <td>-0.222972</td>\n",
       "      <td>-0.012505</td>\n",
       "      <td>-0.667663</td>\n",
       "      <td>-0.421725</td>\n",
       "      <td>-0.268569</td>\n",
       "      <td>-0.571751</td>\n",
       "      <td>-0.290556</td>\n",
       "      <td>-0.290464</td>\n",
       "      <td>...</td>\n",
       "      <td>-0.02919</td>\n",
       "      <td>-0.047525</td>\n",
       "      <td>-0.062944</td>\n",
       "      <td>-0.091138</td>\n",
       "      <td>-0.172137</td>\n",
       "      <td>-0.044197</td>\n",
       "      <td>-0.04733</td>\n",
       "      <td>-0.056285</td>\n",
       "      <td>-0.329048</td>\n",
       "      <td>-0.070971</td>\n",
       "    </tr>\n",
       "    <tr>\n",
       "      <th>5168</th>\n",
       "      <td>2.414828</td>\n",
       "      <td>2.182990</td>\n",
       "      <td>0.415336</td>\n",
       "      <td>-0.177921</td>\n",
       "      <td>0.614369</td>\n",
       "      <td>0.380940</td>\n",
       "      <td>1.090411</td>\n",
       "      <td>0.355457</td>\n",
       "      <td>0.140033</td>\n",
       "      <td>0.643145</td>\n",
       "      <td>...</td>\n",
       "      <td>-0.02919</td>\n",
       "      <td>-0.047525</td>\n",
       "      <td>-0.062944</td>\n",
       "      <td>-0.091138</td>\n",
       "      <td>-0.172137</td>\n",
       "      <td>-0.044197</td>\n",
       "      <td>-0.04733</td>\n",
       "      <td>-0.056285</td>\n",
       "      <td>0.030672</td>\n",
       "      <td>-0.070971</td>\n",
       "    </tr>\n",
       "    <tr>\n",
       "      <th>5169</th>\n",
       "      <td>-0.565449</td>\n",
       "      <td>-0.649083</td>\n",
       "      <td>-0.293895</td>\n",
       "      <td>-0.343336</td>\n",
       "      <td>-0.667663</td>\n",
       "      <td>-0.421725</td>\n",
       "      <td>-0.508389</td>\n",
       "      <td>-0.571751</td>\n",
       "      <td>-0.290556</td>\n",
       "      <td>-0.497933</td>\n",
       "      <td>...</td>\n",
       "      <td>-0.02919</td>\n",
       "      <td>-0.047525</td>\n",
       "      <td>-0.062944</td>\n",
       "      <td>-0.091138</td>\n",
       "      <td>-0.172137</td>\n",
       "      <td>-0.044197</td>\n",
       "      <td>-0.04733</td>\n",
       "      <td>-0.056285</td>\n",
       "      <td>-0.329048</td>\n",
       "      <td>-0.070971</td>\n",
       "    </tr>\n",
       "    <tr>\n",
       "      <th>5170</th>\n",
       "      <td>-0.395148</td>\n",
       "      <td>0.085158</td>\n",
       "      <td>-0.293895</td>\n",
       "      <td>-0.508752</td>\n",
       "      <td>-0.240319</td>\n",
       "      <td>-0.261192</td>\n",
       "      <td>-0.314249</td>\n",
       "      <td>-0.108147</td>\n",
       "      <td>-0.290556</td>\n",
       "      <td>-0.134863</td>\n",
       "      <td>...</td>\n",
       "      <td>-0.02919</td>\n",
       "      <td>-0.047525</td>\n",
       "      <td>-0.062944</td>\n",
       "      <td>-0.091138</td>\n",
       "      <td>-0.172137</td>\n",
       "      <td>-0.044197</td>\n",
       "      <td>-0.04733</td>\n",
       "      <td>-0.056285</td>\n",
       "      <td>0.030672</td>\n",
       "      <td>-0.070971</td>\n",
       "    </tr>\n",
       "    <tr>\n",
       "      <th>5171</th>\n",
       "      <td>1.307868</td>\n",
       "      <td>1.868315</td>\n",
       "      <td>-0.010202</td>\n",
       "      <td>-0.343336</td>\n",
       "      <td>0.614369</td>\n",
       "      <td>0.380940</td>\n",
       "      <td>1.056151</td>\n",
       "      <td>1.282664</td>\n",
       "      <td>-0.003497</td>\n",
       "      <td>0.643145</td>\n",
       "      <td>...</td>\n",
       "      <td>-0.02919</td>\n",
       "      <td>-0.047525</td>\n",
       "      <td>-0.062944</td>\n",
       "      <td>-0.091138</td>\n",
       "      <td>-0.172137</td>\n",
       "      <td>-0.044197</td>\n",
       "      <td>-0.04733</td>\n",
       "      <td>-0.056285</td>\n",
       "      <td>-0.329048</td>\n",
       "      <td>-0.070971</td>\n",
       "    </tr>\n",
       "  </tbody>\n",
       "</table>\n",
       "<p>5172 rows × 3000 columns</p>\n",
       "</div>"
      ],
      "text/plain": [
       "           the        to       ect       and       for        of         a  \\\n",
       "0    -0.565449 -0.649083 -0.293895 -0.508752 -0.667663 -0.421725 -0.611169   \n",
       "1     0.115757  0.714508  1.337337  0.483741  0.614369 -0.100659  0.530831   \n",
       "2    -0.565449 -0.649083 -0.293895 -0.508752 -0.667663 -0.421725 -0.542649   \n",
       "3    -0.565449 -0.124625  1.195490 -0.508752  0.400697 -0.261192 -0.051589   \n",
       "4     0.030606 -0.019733  0.840875 -0.343336  0.400697 -0.100659  0.016931   \n",
       "...        ...       ...       ...       ...       ...       ...       ...   \n",
       "5167 -0.395148 -0.439299 -0.222972 -0.012505 -0.667663 -0.421725 -0.268569   \n",
       "5168  2.414828  2.182990  0.415336 -0.177921  0.614369  0.380940  1.090411   \n",
       "5169 -0.565449 -0.649083 -0.293895 -0.343336 -0.667663 -0.421725 -0.508389   \n",
       "5170 -0.395148  0.085158 -0.293895 -0.508752 -0.240319 -0.261192 -0.314249   \n",
       "5171  1.307868  1.868315 -0.010202 -0.343336  0.614369  0.380940  1.056151   \n",
       "\n",
       "           you       hou        in  ...  enhancements  connevey       jay  \\\n",
       "0    -0.571751 -0.290556 -0.549800  ...      -0.02919 -0.047525 -0.062944   \n",
       "1    -0.339949  3.584743  0.383809  ...      -0.02919 -0.047525 -0.062944   \n",
       "2    -0.571751 -0.290556 -0.342331  ...      -0.02919 -0.047525 -0.062944   \n",
       "3    -0.108147  1.144740 -0.497933  ...      -0.02919 -0.047525 -0.062944   \n",
       "4    -0.571751  1.001210 -0.394198  ...      -0.02919 -0.047525 -0.062944   \n",
       "...        ...       ...       ...  ...           ...       ...       ...   \n",
       "5167 -0.571751 -0.290556 -0.290464  ...      -0.02919 -0.047525 -0.062944   \n",
       "5168  0.355457  0.140033  0.643145  ...      -0.02919 -0.047525 -0.062944   \n",
       "5169 -0.571751 -0.290556 -0.497933  ...      -0.02919 -0.047525 -0.062944   \n",
       "5170 -0.108147 -0.290556 -0.134863  ...      -0.02919 -0.047525 -0.062944   \n",
       "5171  1.282664 -0.003497  0.643145  ...      -0.02919 -0.047525 -0.062944   \n",
       "\n",
       "        valued       lay  infrastructure  military  allowing        ff  \\\n",
       "0    -0.091138 -0.172137       -0.044197  -0.04733 -0.056285 -0.329048   \n",
       "1    -0.091138 -0.172137       -0.044197  -0.04733 -0.056285  0.030672   \n",
       "2    -0.091138 -0.172137       -0.044197  -0.04733 -0.056285 -0.329048   \n",
       "3    -0.091138 -0.172137       -0.044197  -0.04733 -0.056285 -0.329048   \n",
       "4    -0.091138 -0.172137       -0.044197  -0.04733 -0.056285  0.030672   \n",
       "...        ...       ...             ...       ...       ...       ...   \n",
       "5167 -0.091138 -0.172137       -0.044197  -0.04733 -0.056285 -0.329048   \n",
       "5168 -0.091138 -0.172137       -0.044197  -0.04733 -0.056285  0.030672   \n",
       "5169 -0.091138 -0.172137       -0.044197  -0.04733 -0.056285 -0.329048   \n",
       "5170 -0.091138 -0.172137       -0.044197  -0.04733 -0.056285  0.030672   \n",
       "5171 -0.091138 -0.172137       -0.044197  -0.04733 -0.056285 -0.329048   \n",
       "\n",
       "           dry  \n",
       "0    -0.070971  \n",
       "1    -0.070971  \n",
       "2    -0.070971  \n",
       "3    -0.070971  \n",
       "4    -0.070971  \n",
       "...        ...  \n",
       "5167 -0.070971  \n",
       "5168 -0.070971  \n",
       "5169 -0.070971  \n",
       "5170 -0.070971  \n",
       "5171 -0.070971  \n",
       "\n",
       "[5172 rows x 3000 columns]"
      ]
     },
     "execution_count": 12,
     "metadata": {},
     "output_type": "execute_result"
    }
   ],
   "source": [
    "#Standardized data\n",
    "scaled_x = StandardScaler().fit_transform(raw_x)\n",
    "df_std_x = pd.DataFrame(data=scaled_x, columns=raw_x.columns)\n",
    "df_std_x"
   ]
  },
  {
   "cell_type": "code",
   "execution_count": 13,
   "metadata": {},
   "outputs": [
    {
     "data": {
      "text/html": [
       "<div>\n",
       "<style scoped>\n",
       "    .dataframe tbody tr th:only-of-type {\n",
       "        vertical-align: middle;\n",
       "    }\n",
       "\n",
       "    .dataframe tbody tr th {\n",
       "        vertical-align: top;\n",
       "    }\n",
       "\n",
       "    .dataframe thead th {\n",
       "        text-align: right;\n",
       "    }\n",
       "</style>\n",
       "<table border=\"1\" class=\"dataframe\">\n",
       "  <thead>\n",
       "    <tr style=\"text-align: right;\">\n",
       "      <th></th>\n",
       "      <th>the</th>\n",
       "      <th>to</th>\n",
       "      <th>ect</th>\n",
       "      <th>and</th>\n",
       "      <th>for</th>\n",
       "      <th>of</th>\n",
       "      <th>a</th>\n",
       "      <th>you</th>\n",
       "      <th>hou</th>\n",
       "      <th>in</th>\n",
       "      <th>...</th>\n",
       "      <th>enhancements</th>\n",
       "      <th>connevey</th>\n",
       "      <th>jay</th>\n",
       "      <th>valued</th>\n",
       "      <th>lay</th>\n",
       "      <th>infrastructure</th>\n",
       "      <th>military</th>\n",
       "      <th>allowing</th>\n",
       "      <th>ff</th>\n",
       "      <th>dry</th>\n",
       "    </tr>\n",
       "  </thead>\n",
       "  <tbody>\n",
       "    <tr>\n",
       "      <th>count</th>\n",
       "      <td>5172.000000</td>\n",
       "      <td>5.172000e+03</td>\n",
       "      <td>5.172000e+03</td>\n",
       "      <td>5.172000e+03</td>\n",
       "      <td>5.172000e+03</td>\n",
       "      <td>5.172000e+03</td>\n",
       "      <td>5.172000e+03</td>\n",
       "      <td>5.172000e+03</td>\n",
       "      <td>5.172000e+03</td>\n",
       "      <td>5.172000e+03</td>\n",
       "      <td>...</td>\n",
       "      <td>5.172000e+03</td>\n",
       "      <td>5.172000e+03</td>\n",
       "      <td>5.172000e+03</td>\n",
       "      <td>5.172000e+03</td>\n",
       "      <td>5.172000e+03</td>\n",
       "      <td>5.172000e+03</td>\n",
       "      <td>5.172000e+03</td>\n",
       "      <td>5.172000e+03</td>\n",
       "      <td>5.172000e+03</td>\n",
       "      <td>5.172000e+03</td>\n",
       "    </tr>\n",
       "    <tr>\n",
       "      <th>mean</th>\n",
       "      <td>0.000000</td>\n",
       "      <td>4.671008e-17</td>\n",
       "      <td>2.747652e-17</td>\n",
       "      <td>-2.198121e-17</td>\n",
       "      <td>-8.242955e-18</td>\n",
       "      <td>-4.121478e-17</td>\n",
       "      <td>2.747652e-17</td>\n",
       "      <td>2.747652e-17</td>\n",
       "      <td>5.495303e-18</td>\n",
       "      <td>-3.022417e-17</td>\n",
       "      <td>...</td>\n",
       "      <td>-6.869129e-18</td>\n",
       "      <td>-5.495303e-18</td>\n",
       "      <td>-1.373826e-17</td>\n",
       "      <td>-2.060739e-17</td>\n",
       "      <td>4.293206e-18</td>\n",
       "      <td>5.495303e-18</td>\n",
       "      <td>4.121478e-18</td>\n",
       "      <td>-1.373826e-17</td>\n",
       "      <td>-1.099061e-17</td>\n",
       "      <td>-1.648591e-17</td>\n",
       "    </tr>\n",
       "    <tr>\n",
       "      <th>std</th>\n",
       "      <td>1.000097</td>\n",
       "      <td>1.000097e+00</td>\n",
       "      <td>1.000097e+00</td>\n",
       "      <td>1.000097e+00</td>\n",
       "      <td>1.000097e+00</td>\n",
       "      <td>1.000097e+00</td>\n",
       "      <td>1.000097e+00</td>\n",
       "      <td>1.000097e+00</td>\n",
       "      <td>1.000097e+00</td>\n",
       "      <td>1.000097e+00</td>\n",
       "      <td>...</td>\n",
       "      <td>1.000097e+00</td>\n",
       "      <td>1.000097e+00</td>\n",
       "      <td>1.000097e+00</td>\n",
       "      <td>1.000097e+00</td>\n",
       "      <td>1.000097e+00</td>\n",
       "      <td>1.000097e+00</td>\n",
       "      <td>1.000097e+00</td>\n",
       "      <td>1.000097e+00</td>\n",
       "      <td>1.000097e+00</td>\n",
       "      <td>1.000097e+00</td>\n",
       "    </tr>\n",
       "    <tr>\n",
       "      <th>min</th>\n",
       "      <td>-0.565449</td>\n",
       "      <td>-6.490826e-01</td>\n",
       "      <td>-2.938948e-01</td>\n",
       "      <td>-5.087516e-01</td>\n",
       "      <td>-6.676632e-01</td>\n",
       "      <td>-4.217254e-01</td>\n",
       "      <td>-6.340085e-01</td>\n",
       "      <td>-5.717513e-01</td>\n",
       "      <td>-2.905558e-01</td>\n",
       "      <td>-5.497998e-01</td>\n",
       "      <td>...</td>\n",
       "      <td>-2.919020e-02</td>\n",
       "      <td>-4.752477e-02</td>\n",
       "      <td>-6.294447e-02</td>\n",
       "      <td>-9.113820e-02</td>\n",
       "      <td>-1.721366e-01</td>\n",
       "      <td>-4.419738e-02</td>\n",
       "      <td>-4.732990e-02</td>\n",
       "      <td>-5.628530e-02</td>\n",
       "      <td>-3.290485e-01</td>\n",
       "      <td>-7.097072e-02</td>\n",
       "    </tr>\n",
       "    <tr>\n",
       "      <th>25%</th>\n",
       "      <td>-0.565449</td>\n",
       "      <td>-5.441910e-01</td>\n",
       "      <td>-2.938948e-01</td>\n",
       "      <td>-5.087516e-01</td>\n",
       "      <td>-4.539911e-01</td>\n",
       "      <td>-4.217254e-01</td>\n",
       "      <td>-4.969685e-01</td>\n",
       "      <td>-5.717513e-01</td>\n",
       "      <td>-2.905558e-01</td>\n",
       "      <td>-4.979326e-01</td>\n",
       "      <td>...</td>\n",
       "      <td>-2.919020e-02</td>\n",
       "      <td>-4.752477e-02</td>\n",
       "      <td>-6.294447e-02</td>\n",
       "      <td>-9.113820e-02</td>\n",
       "      <td>-1.721366e-01</td>\n",
       "      <td>-4.419738e-02</td>\n",
       "      <td>-4.732990e-02</td>\n",
       "      <td>-5.628530e-02</td>\n",
       "      <td>-3.290485e-01</td>\n",
       "      <td>-7.097072e-02</td>\n",
       "    </tr>\n",
       "    <tr>\n",
       "      <th>50%</th>\n",
       "      <td>-0.309997</td>\n",
       "      <td>-3.344078e-01</td>\n",
       "      <td>-2.938948e-01</td>\n",
       "      <td>-3.433362e-01</td>\n",
       "      <td>-2.403191e-01</td>\n",
       "      <td>-2.611923e-01</td>\n",
       "      <td>-3.142486e-01</td>\n",
       "      <td>-3.399493e-01</td>\n",
       "      <td>-2.905558e-01</td>\n",
       "      <td>-2.904640e-01</td>\n",
       "      <td>...</td>\n",
       "      <td>-2.919020e-02</td>\n",
       "      <td>-4.752477e-02</td>\n",
       "      <td>-6.294447e-02</td>\n",
       "      <td>-9.113820e-02</td>\n",
       "      <td>-1.721366e-01</td>\n",
       "      <td>-4.419738e-02</td>\n",
       "      <td>-4.732990e-02</td>\n",
       "      <td>-5.628530e-02</td>\n",
       "      <td>-3.290485e-01</td>\n",
       "      <td>-7.097072e-02</td>\n",
       "    </tr>\n",
       "    <tr>\n",
       "      <th>75%</th>\n",
       "      <td>0.115757</td>\n",
       "      <td>8.515850e-02</td>\n",
       "      <td>-8.112550e-02</td>\n",
       "      <td>-1.250530e-02</td>\n",
       "      <td>1.870250e-01</td>\n",
       "      <td>-1.006591e-01</td>\n",
       "      <td>7.688625e-02</td>\n",
       "      <td>1.236546e-01</td>\n",
       "      <td>-1.470262e-01</td>\n",
       "      <td>7.260598e-02</td>\n",
       "      <td>...</td>\n",
       "      <td>-2.919020e-02</td>\n",
       "      <td>-4.752477e-02</td>\n",
       "      <td>-6.294447e-02</td>\n",
       "      <td>-9.113820e-02</td>\n",
       "      <td>-1.721366e-01</td>\n",
       "      <td>-4.419738e-02</td>\n",
       "      <td>-4.732990e-02</td>\n",
       "      <td>-5.628530e-02</td>\n",
       "      <td>3.067224e-02</td>\n",
       "      <td>-7.097072e-02</td>\n",
       "    </tr>\n",
       "    <tr>\n",
       "      <th>max</th>\n",
       "      <td>17.316215</td>\n",
       "      <td>1.319661e+01</td>\n",
       "      <td>2.403273e+01</td>\n",
       "      <td>1.421322e+01</td>\n",
       "      <td>9.374923e+00</td>\n",
       "      <td>1.193933e+01</td>\n",
       "      <td>2.104114e+01</td>\n",
       "      <td>1.565439e+01</td>\n",
       "      <td>2.367888e+01</td>\n",
       "      <td>1.101657e+01</td>\n",
       "      <td>...</td>\n",
       "      <td>5.203001e+01</td>\n",
       "      <td>3.776757e+01</td>\n",
       "      <td>3.499616e+01</td>\n",
       "      <td>1.704947e+01</td>\n",
       "      <td>2.089983e+01</td>\n",
       "      <td>3.112701e+01</td>\n",
       "      <td>2.875152e+01</td>\n",
       "      <td>4.153051e+01</td>\n",
       "      <td>4.067911e+01</td>\n",
       "      <td>4.071354e+01</td>\n",
       "    </tr>\n",
       "  </tbody>\n",
       "</table>\n",
       "<p>8 rows × 3000 columns</p>\n",
       "</div>"
      ],
      "text/plain": [
       "               the            to           ect           and           for  \\\n",
       "count  5172.000000  5.172000e+03  5.172000e+03  5.172000e+03  5.172000e+03   \n",
       "mean      0.000000  4.671008e-17  2.747652e-17 -2.198121e-17 -8.242955e-18   \n",
       "std       1.000097  1.000097e+00  1.000097e+00  1.000097e+00  1.000097e+00   \n",
       "min      -0.565449 -6.490826e-01 -2.938948e-01 -5.087516e-01 -6.676632e-01   \n",
       "25%      -0.565449 -5.441910e-01 -2.938948e-01 -5.087516e-01 -4.539911e-01   \n",
       "50%      -0.309997 -3.344078e-01 -2.938948e-01 -3.433362e-01 -2.403191e-01   \n",
       "75%       0.115757  8.515850e-02 -8.112550e-02 -1.250530e-02  1.870250e-01   \n",
       "max      17.316215  1.319661e+01  2.403273e+01  1.421322e+01  9.374923e+00   \n",
       "\n",
       "                 of             a           you           hou            in  \\\n",
       "count  5.172000e+03  5.172000e+03  5.172000e+03  5.172000e+03  5.172000e+03   \n",
       "mean  -4.121478e-17  2.747652e-17  2.747652e-17  5.495303e-18 -3.022417e-17   \n",
       "std    1.000097e+00  1.000097e+00  1.000097e+00  1.000097e+00  1.000097e+00   \n",
       "min   -4.217254e-01 -6.340085e-01 -5.717513e-01 -2.905558e-01 -5.497998e-01   \n",
       "25%   -4.217254e-01 -4.969685e-01 -5.717513e-01 -2.905558e-01 -4.979326e-01   \n",
       "50%   -2.611923e-01 -3.142486e-01 -3.399493e-01 -2.905558e-01 -2.904640e-01   \n",
       "75%   -1.006591e-01  7.688625e-02  1.236546e-01 -1.470262e-01  7.260598e-02   \n",
       "max    1.193933e+01  2.104114e+01  1.565439e+01  2.367888e+01  1.101657e+01   \n",
       "\n",
       "       ...  enhancements      connevey           jay        valued  \\\n",
       "count  ...  5.172000e+03  5.172000e+03  5.172000e+03  5.172000e+03   \n",
       "mean   ... -6.869129e-18 -5.495303e-18 -1.373826e-17 -2.060739e-17   \n",
       "std    ...  1.000097e+00  1.000097e+00  1.000097e+00  1.000097e+00   \n",
       "min    ... -2.919020e-02 -4.752477e-02 -6.294447e-02 -9.113820e-02   \n",
       "25%    ... -2.919020e-02 -4.752477e-02 -6.294447e-02 -9.113820e-02   \n",
       "50%    ... -2.919020e-02 -4.752477e-02 -6.294447e-02 -9.113820e-02   \n",
       "75%    ... -2.919020e-02 -4.752477e-02 -6.294447e-02 -9.113820e-02   \n",
       "max    ...  5.203001e+01  3.776757e+01  3.499616e+01  1.704947e+01   \n",
       "\n",
       "                lay  infrastructure      military      allowing            ff  \\\n",
       "count  5.172000e+03    5.172000e+03  5.172000e+03  5.172000e+03  5.172000e+03   \n",
       "mean   4.293206e-18    5.495303e-18  4.121478e-18 -1.373826e-17 -1.099061e-17   \n",
       "std    1.000097e+00    1.000097e+00  1.000097e+00  1.000097e+00  1.000097e+00   \n",
       "min   -1.721366e-01   -4.419738e-02 -4.732990e-02 -5.628530e-02 -3.290485e-01   \n",
       "25%   -1.721366e-01   -4.419738e-02 -4.732990e-02 -5.628530e-02 -3.290485e-01   \n",
       "50%   -1.721366e-01   -4.419738e-02 -4.732990e-02 -5.628530e-02 -3.290485e-01   \n",
       "75%   -1.721366e-01   -4.419738e-02 -4.732990e-02 -5.628530e-02  3.067224e-02   \n",
       "max    2.089983e+01    3.112701e+01  2.875152e+01  4.153051e+01  4.067911e+01   \n",
       "\n",
       "                dry  \n",
       "count  5.172000e+03  \n",
       "mean  -1.648591e-17  \n",
       "std    1.000097e+00  \n",
       "min   -7.097072e-02  \n",
       "25%   -7.097072e-02  \n",
       "50%   -7.097072e-02  \n",
       "75%   -7.097072e-02  \n",
       "max    4.071354e+01  \n",
       "\n",
       "[8 rows x 3000 columns]"
      ]
     },
     "execution_count": 13,
     "metadata": {},
     "output_type": "execute_result"
    }
   ],
   "source": [
    "df_std_x.describe()"
   ]
  },
  {
   "cell_type": "markdown",
   "metadata": {},
   "source": [
    "## Train-test-split data"
   ]
  },
  {
   "cell_type": "code",
   "execution_count": 14,
   "metadata": {},
   "outputs": [],
   "source": [
    "rseed = 42\n",
    "x_train, x_test, y_train, y_test = train_test_split(df_std_x, raw_y, test_size=0.3, random_state=rseed)"
   ]
  },
  {
   "cell_type": "markdown",
   "metadata": {},
   "source": [
    "# Model Parameter Tuning"
   ]
  },
  {
   "cell_type": "code",
   "execution_count": null,
   "metadata": {},
   "outputs": [],
   "source": [
    "#Create Parameter for Random Forest\n",
    "nEst = [100, 500, 1000, 2000]\n",
    "ASM_function = ['entropy', 'gini', 'log_loss']\n",
    "maxF = ['sqrt', 'log2', None]\n",
    "minSample = [1, 2, 4]\n",
    "maxD = [None]\n",
    "\n",
    "RF_param = dict(n_estimators = nEst, \n",
    "criterion = ASM_function, \n",
    "max_depth = maxD, \n",
    "min_samples_leaf = minSample, \n",
    "max_features = maxF, random_state = [rseed])"
   ]
  },
  {
   "cell_type": "code",
   "execution_count": null,
   "metadata": {},
   "outputs": [
    {
     "name": "stdout",
     "output_type": "stream",
     "text": [
      "Fitting 5 folds for each of 108 candidates, totalling 540 fits\n"
     ]
    }
   ],
   "source": [
    "#Tuning parameter with GridSearchCV\n",
    "nJob = -1 #Numbers of job run in parallel\n",
    "vb = 10 #Control verbosity\n",
    "cv = 5 #Numbers of cross-validation\n",
    "\n",
    "grid = GridSearchCV(estimator = RandomForestClassifier(), n_jobs = nJob, verbose = vb, scoring = 'accuracy', cv = cv, param_grid = RF_param)\n",
    "grid_result = grid.fit(x_train, y_train)"
   ]
  },
  {
   "cell_type": "code",
   "execution_count": null,
   "metadata": {},
   "outputs": [
    {
     "name": "stdout",
     "output_type": "stream",
     "text": [
      "Best params: {'criterion': 'entropy', 'max_depth': None, 'max_features': 'sqrt', 'min_samples_leaf': 1, 'n_estimators': 2000, 'random_state': 42}\n",
      "Best score: 0.9726519337016575\n",
      "\n",
      "0.965470 (0.005455) with: {'criterion': 'entropy', 'max_depth': None, 'max_features': 'sqrt', 'min_samples_leaf': 1, 'n_estimators': 100, 'random_state': 42}\n",
      "0.970442 (0.004988) with: {'criterion': 'entropy', 'max_depth': None, 'max_features': 'sqrt', 'min_samples_leaf': 1, 'n_estimators': 500, 'random_state': 42}\n",
      "0.971547 (0.005357) with: {'criterion': 'entropy', 'max_depth': None, 'max_features': 'sqrt', 'min_samples_leaf': 1, 'n_estimators': 1000, 'random_state': 42}\n",
      "0.972652 (0.004655) with: {'criterion': 'entropy', 'max_depth': None, 'max_features': 'sqrt', 'min_samples_leaf': 1, 'n_estimators': 2000, 'random_state': 42}\n",
      "0.965746 (0.005886) with: {'criterion': 'entropy', 'max_depth': None, 'max_features': 'sqrt', 'min_samples_leaf': 2, 'n_estimators': 100, 'random_state': 42}\n",
      "0.969613 (0.005241) with: {'criterion': 'entropy', 'max_depth': None, 'max_features': 'sqrt', 'min_samples_leaf': 2, 'n_estimators': 500, 'random_state': 42}\n",
      "0.968232 (0.005593) with: {'criterion': 'entropy', 'max_depth': None, 'max_features': 'sqrt', 'min_samples_leaf': 2, 'n_estimators': 1000, 'random_state': 42}\n",
      "0.968232 (0.006177) with: {'criterion': 'entropy', 'max_depth': None, 'max_features': 'sqrt', 'min_samples_leaf': 2, 'n_estimators': 2000, 'random_state': 42}\n",
      "0.964088 (0.007464) with: {'criterion': 'entropy', 'max_depth': None, 'max_features': 'sqrt', 'min_samples_leaf': 4, 'n_estimators': 100, 'random_state': 42}\n",
      "0.964917 (0.007021) with: {'criterion': 'entropy', 'max_depth': None, 'max_features': 'sqrt', 'min_samples_leaf': 4, 'n_estimators': 500, 'random_state': 42}\n",
      "0.965746 (0.007381) with: {'criterion': 'entropy', 'max_depth': None, 'max_features': 'sqrt', 'min_samples_leaf': 4, 'n_estimators': 1000, 'random_state': 42}\n",
      "0.966298 (0.006275) with: {'criterion': 'entropy', 'max_depth': None, 'max_features': 'sqrt', 'min_samples_leaf': 4, 'n_estimators': 2000, 'random_state': 42}\n",
      "0.961602 (0.008577) with: {'criterion': 'entropy', 'max_depth': None, 'max_features': 'log2', 'min_samples_leaf': 1, 'n_estimators': 100, 'random_state': 42}\n",
      "0.969061 (0.007645) with: {'criterion': 'entropy', 'max_depth': None, 'max_features': 'log2', 'min_samples_leaf': 1, 'n_estimators': 500, 'random_state': 42}\n",
      "0.967956 (0.005886) with: {'criterion': 'entropy', 'max_depth': None, 'max_features': 'log2', 'min_samples_leaf': 1, 'n_estimators': 1000, 'random_state': 42}\n",
      "0.967956 (0.005483) with: {'criterion': 'entropy', 'max_depth': None, 'max_features': 'log2', 'min_samples_leaf': 1, 'n_estimators': 2000, 'random_state': 42}\n",
      "0.946961 (0.004911) with: {'criterion': 'entropy', 'max_depth': None, 'max_features': 'log2', 'min_samples_leaf': 2, 'n_estimators': 100, 'random_state': 42}\n",
      "0.947514 (0.005094) with: {'criterion': 'entropy', 'max_depth': None, 'max_features': 'log2', 'min_samples_leaf': 2, 'n_estimators': 500, 'random_state': 42}\n",
      "0.950000 (0.009465) with: {'criterion': 'entropy', 'max_depth': None, 'max_features': 'log2', 'min_samples_leaf': 2, 'n_estimators': 1000, 'random_state': 42}\n",
      "0.950552 (0.009465) with: {'criterion': 'entropy', 'max_depth': None, 'max_features': 'log2', 'min_samples_leaf': 2, 'n_estimators': 2000, 'random_state': 42}\n",
      "0.916575 (0.003338) with: {'criterion': 'entropy', 'max_depth': None, 'max_features': 'log2', 'min_samples_leaf': 4, 'n_estimators': 100, 'random_state': 42}\n",
      "0.909945 (0.007330) with: {'criterion': 'entropy', 'max_depth': None, 'max_features': 'log2', 'min_samples_leaf': 4, 'n_estimators': 500, 'random_state': 42}\n",
      "0.910497 (0.006676) with: {'criterion': 'entropy', 'max_depth': None, 'max_features': 'log2', 'min_samples_leaf': 4, 'n_estimators': 1000, 'random_state': 42}\n",
      "0.909669 (0.005768) with: {'criterion': 'entropy', 'max_depth': None, 'max_features': 'log2', 'min_samples_leaf': 4, 'n_estimators': 2000, 'random_state': 42}\n",
      "0.958564 (0.005314) with: {'criterion': 'entropy', 'max_depth': None, 'max_features': None, 'min_samples_leaf': 1, 'n_estimators': 100, 'random_state': 42}\n",
      "0.959392 (0.003559) with: {'criterion': 'entropy', 'max_depth': None, 'max_features': None, 'min_samples_leaf': 1, 'n_estimators': 500, 'random_state': 42}\n",
      "0.961050 (0.003428) with: {'criterion': 'entropy', 'max_depth': None, 'max_features': None, 'min_samples_leaf': 1, 'n_estimators': 1000, 'random_state': 42}\n",
      "0.961050 (0.003198) with: {'criterion': 'entropy', 'max_depth': None, 'max_features': None, 'min_samples_leaf': 1, 'n_estimators': 2000, 'random_state': 42}\n",
      "0.960497 (0.005285) with: {'criterion': 'entropy', 'max_depth': None, 'max_features': None, 'min_samples_leaf': 2, 'n_estimators': 100, 'random_state': 42}\n",
      "0.961050 (0.002817) with: {'criterion': 'entropy', 'max_depth': None, 'max_features': None, 'min_samples_leaf': 2, 'n_estimators': 500, 'random_state': 42}\n",
      "0.959392 (0.003559) with: {'criterion': 'entropy', 'max_depth': None, 'max_features': None, 'min_samples_leaf': 2, 'n_estimators': 1000, 'random_state': 42}\n",
      "0.960221 (0.003848) with: {'criterion': 'entropy', 'max_depth': None, 'max_features': None, 'min_samples_leaf': 2, 'n_estimators': 2000, 'random_state': 42}\n",
      "0.956354 (0.006572) with: {'criterion': 'entropy', 'max_depth': None, 'max_features': None, 'min_samples_leaf': 4, 'n_estimators': 100, 'random_state': 42}\n",
      "0.957459 (0.004573) with: {'criterion': 'entropy', 'max_depth': None, 'max_features': None, 'min_samples_leaf': 4, 'n_estimators': 500, 'random_state': 42}\n",
      "0.958564 (0.003602) with: {'criterion': 'entropy', 'max_depth': None, 'max_features': None, 'min_samples_leaf': 4, 'n_estimators': 1000, 'random_state': 42}\n",
      "0.959116 (0.003767) with: {'criterion': 'entropy', 'max_depth': None, 'max_features': None, 'min_samples_leaf': 4, 'n_estimators': 2000, 'random_state': 42}\n",
      "0.962707 (0.006878) with: {'criterion': 'gini', 'max_depth': None, 'max_features': 'sqrt', 'min_samples_leaf': 1, 'n_estimators': 100, 'random_state': 42}\n",
      "0.969061 (0.003338) with: {'criterion': 'gini', 'max_depth': None, 'max_features': 'sqrt', 'min_samples_leaf': 1, 'n_estimators': 500, 'random_state': 42}\n",
      "0.969061 (0.005634) with: {'criterion': 'gini', 'max_depth': None, 'max_features': 'sqrt', 'min_samples_leaf': 1, 'n_estimators': 1000, 'random_state': 42}\n",
      "0.969890 (0.004041) with: {'criterion': 'gini', 'max_depth': None, 'max_features': 'sqrt', 'min_samples_leaf': 1, 'n_estimators': 2000, 'random_state': 42}\n",
      "0.961602 (0.009011) with: {'criterion': 'gini', 'max_depth': None, 'max_features': 'sqrt', 'min_samples_leaf': 2, 'n_estimators': 100, 'random_state': 42}\n",
      "0.966022 (0.005566) with: {'criterion': 'gini', 'max_depth': None, 'max_features': 'sqrt', 'min_samples_leaf': 2, 'n_estimators': 500, 'random_state': 42}\n",
      "0.965746 (0.006618) with: {'criterion': 'gini', 'max_depth': None, 'max_features': 'sqrt', 'min_samples_leaf': 2, 'n_estimators': 1000, 'random_state': 42}\n",
      "0.967680 (0.005566) with: {'criterion': 'gini', 'max_depth': None, 'max_features': 'sqrt', 'min_samples_leaf': 2, 'n_estimators': 2000, 'random_state': 42}\n",
      "0.956077 (0.011765) with: {'criterion': 'gini', 'max_depth': None, 'max_features': 'sqrt', 'min_samples_leaf': 4, 'n_estimators': 100, 'random_state': 42}\n",
      "0.962155 (0.009473) with: {'criterion': 'gini', 'max_depth': None, 'max_features': 'sqrt', 'min_samples_leaf': 4, 'n_estimators': 500, 'random_state': 42}\n",
      "0.962983 (0.007064) with: {'criterion': 'gini', 'max_depth': None, 'max_features': 'sqrt', 'min_samples_leaf': 4, 'n_estimators': 1000, 'random_state': 42}\n",
      "0.963812 (0.006443) with: {'criterion': 'gini', 'max_depth': None, 'max_features': 'sqrt', 'min_samples_leaf': 4, 'n_estimators': 2000, 'random_state': 42}\n",
      "0.960773 (0.007340) with: {'criterion': 'gini', 'max_depth': None, 'max_features': 'log2', 'min_samples_leaf': 1, 'n_estimators': 100, 'random_state': 42}\n",
      "0.965746 (0.007330) with: {'criterion': 'gini', 'max_depth': None, 'max_features': 'log2', 'min_samples_leaf': 1, 'n_estimators': 500, 'random_state': 42}\n",
      "0.962983 (0.008213) with: {'criterion': 'gini', 'max_depth': None, 'max_features': 'log2', 'min_samples_leaf': 1, 'n_estimators': 1000, 'random_state': 42}\n",
      "0.964917 (0.008762) with: {'criterion': 'gini', 'max_depth': None, 'max_features': 'log2', 'min_samples_leaf': 1, 'n_estimators': 2000, 'random_state': 42}\n",
      "0.940608 (0.006177) with: {'criterion': 'gini', 'max_depth': None, 'max_features': 'log2', 'min_samples_leaf': 2, 'n_estimators': 100, 'random_state': 42}\n",
      "0.941713 (0.005049) with: {'criterion': 'gini', 'max_depth': None, 'max_features': 'log2', 'min_samples_leaf': 2, 'n_estimators': 500, 'random_state': 42}\n",
      "0.941713 (0.006384) with: {'criterion': 'gini', 'max_depth': None, 'max_features': 'log2', 'min_samples_leaf': 2, 'n_estimators': 1000, 'random_state': 42}\n",
      "0.941713 (0.005755) with: {'criterion': 'gini', 'max_depth': None, 'max_features': 'log2', 'min_samples_leaf': 2, 'n_estimators': 2000, 'random_state': 42}\n",
      "0.904696 (0.004368) with: {'criterion': 'gini', 'max_depth': None, 'max_features': 'log2', 'min_samples_leaf': 4, 'n_estimators': 100, 'random_state': 42}\n",
      "0.900276 (0.007535) with: {'criterion': 'gini', 'max_depth': None, 'max_features': 'log2', 'min_samples_leaf': 4, 'n_estimators': 500, 'random_state': 42}\n",
      "0.901934 (0.007412) with: {'criterion': 'gini', 'max_depth': None, 'max_features': 'log2', 'min_samples_leaf': 4, 'n_estimators': 1000, 'random_state': 42}\n",
      "0.900000 (0.007021) with: {'criterion': 'gini', 'max_depth': None, 'max_features': 'log2', 'min_samples_leaf': 4, 'n_estimators': 2000, 'random_state': 42}\n",
      "0.953591 (0.006275) with: {'criterion': 'gini', 'max_depth': None, 'max_features': None, 'min_samples_leaf': 1, 'n_estimators': 100, 'random_state': 42}\n",
      "0.958287 (0.006140) with: {'criterion': 'gini', 'max_depth': None, 'max_features': None, 'min_samples_leaf': 1, 'n_estimators': 500, 'random_state': 42}\n",
      "0.958564 (0.006115) with: {'criterion': 'gini', 'max_depth': None, 'max_features': None, 'min_samples_leaf': 1, 'n_estimators': 1000, 'random_state': 42}\n",
      "0.959116 (0.006152) with: {'criterion': 'gini', 'max_depth': None, 'max_features': None, 'min_samples_leaf': 1, 'n_estimators': 2000, 'random_state': 42}\n",
      "0.951657 (0.006238) with: {'criterion': 'gini', 'max_depth': None, 'max_features': None, 'min_samples_leaf': 2, 'n_estimators': 100, 'random_state': 42}\n",
      "0.954696 (0.005049) with: {'criterion': 'gini', 'max_depth': None, 'max_features': None, 'min_samples_leaf': 2, 'n_estimators': 500, 'random_state': 42}\n",
      "0.954972 (0.004988) with: {'criterion': 'gini', 'max_depth': None, 'max_features': None, 'min_samples_leaf': 2, 'n_estimators': 1000, 'random_state': 42}\n",
      "0.954972 (0.005138) with: {'criterion': 'gini', 'max_depth': None, 'max_features': None, 'min_samples_leaf': 2, 'n_estimators': 2000, 'random_state': 42}\n",
      "0.945028 (0.008167) with: {'criterion': 'gini', 'max_depth': None, 'max_features': None, 'min_samples_leaf': 4, 'n_estimators': 100, 'random_state': 42}\n",
      "0.947790 (0.007330) with: {'criterion': 'gini', 'max_depth': None, 'max_features': None, 'min_samples_leaf': 4, 'n_estimators': 500, 'random_state': 42}\n",
      "0.948343 (0.005357) with: {'criterion': 'gini', 'max_depth': None, 'max_features': None, 'min_samples_leaf': 4, 'n_estimators': 1000, 'random_state': 42}\n",
      "0.949171 (0.005886) with: {'criterion': 'gini', 'max_depth': None, 'max_features': None, 'min_samples_leaf': 4, 'n_estimators': 2000, 'random_state': 42}\n",
      "0.965470 (0.005455) with: {'criterion': 'log_loss', 'max_depth': None, 'max_features': 'sqrt', 'min_samples_leaf': 1, 'n_estimators': 100, 'random_state': 42}\n",
      "0.970442 (0.004988) with: {'criterion': 'log_loss', 'max_depth': None, 'max_features': 'sqrt', 'min_samples_leaf': 1, 'n_estimators': 500, 'random_state': 42}\n",
      "0.971547 (0.005357) with: {'criterion': 'log_loss', 'max_depth': None, 'max_features': 'sqrt', 'min_samples_leaf': 1, 'n_estimators': 1000, 'random_state': 42}\n",
      "0.972652 (0.004655) with: {'criterion': 'log_loss', 'max_depth': None, 'max_features': 'sqrt', 'min_samples_leaf': 1, 'n_estimators': 2000, 'random_state': 42}\n",
      "0.965746 (0.005886) with: {'criterion': 'log_loss', 'max_depth': None, 'max_features': 'sqrt', 'min_samples_leaf': 2, 'n_estimators': 100, 'random_state': 42}\n",
      "0.969613 (0.005241) with: {'criterion': 'log_loss', 'max_depth': None, 'max_features': 'sqrt', 'min_samples_leaf': 2, 'n_estimators': 500, 'random_state': 42}\n",
      "0.968232 (0.005593) with: {'criterion': 'log_loss', 'max_depth': None, 'max_features': 'sqrt', 'min_samples_leaf': 2, 'n_estimators': 1000, 'random_state': 42}\n",
      "0.968232 (0.006177) with: {'criterion': 'log_loss', 'max_depth': None, 'max_features': 'sqrt', 'min_samples_leaf': 2, 'n_estimators': 2000, 'random_state': 42}\n",
      "0.964088 (0.007464) with: {'criterion': 'log_loss', 'max_depth': None, 'max_features': 'sqrt', 'min_samples_leaf': 4, 'n_estimators': 100, 'random_state': 42}\n",
      "0.964917 (0.007021) with: {'criterion': 'log_loss', 'max_depth': None, 'max_features': 'sqrt', 'min_samples_leaf': 4, 'n_estimators': 500, 'random_state': 42}\n",
      "0.965746 (0.007381) with: {'criterion': 'log_loss', 'max_depth': None, 'max_features': 'sqrt', 'min_samples_leaf': 4, 'n_estimators': 1000, 'random_state': 42}\n",
      "0.966298 (0.006275) with: {'criterion': 'log_loss', 'max_depth': None, 'max_features': 'sqrt', 'min_samples_leaf': 4, 'n_estimators': 2000, 'random_state': 42}\n",
      "0.961602 (0.008577) with: {'criterion': 'log_loss', 'max_depth': None, 'max_features': 'log2', 'min_samples_leaf': 1, 'n_estimators': 100, 'random_state': 42}\n",
      "0.969061 (0.007645) with: {'criterion': 'log_loss', 'max_depth': None, 'max_features': 'log2', 'min_samples_leaf': 1, 'n_estimators': 500, 'random_state': 42}\n",
      "0.967956 (0.005886) with: {'criterion': 'log_loss', 'max_depth': None, 'max_features': 'log2', 'min_samples_leaf': 1, 'n_estimators': 1000, 'random_state': 42}\n",
      "0.967956 (0.005483) with: {'criterion': 'log_loss', 'max_depth': None, 'max_features': 'log2', 'min_samples_leaf': 1, 'n_estimators': 2000, 'random_state': 42}\n",
      "0.946961 (0.004911) with: {'criterion': 'log_loss', 'max_depth': None, 'max_features': 'log2', 'min_samples_leaf': 2, 'n_estimators': 100, 'random_state': 42}\n",
      "0.947514 (0.005094) with: {'criterion': 'log_loss', 'max_depth': None, 'max_features': 'log2', 'min_samples_leaf': 2, 'n_estimators': 500, 'random_state': 42}\n",
      "0.950000 (0.009465) with: {'criterion': 'log_loss', 'max_depth': None, 'max_features': 'log2', 'min_samples_leaf': 2, 'n_estimators': 1000, 'random_state': 42}\n",
      "0.950552 (0.009465) with: {'criterion': 'log_loss', 'max_depth': None, 'max_features': 'log2', 'min_samples_leaf': 2, 'n_estimators': 2000, 'random_state': 42}\n",
      "0.916575 (0.003338) with: {'criterion': 'log_loss', 'max_depth': None, 'max_features': 'log2', 'min_samples_leaf': 4, 'n_estimators': 100, 'random_state': 42}\n",
      "0.909945 (0.007330) with: {'criterion': 'log_loss', 'max_depth': None, 'max_features': 'log2', 'min_samples_leaf': 4, 'n_estimators': 500, 'random_state': 42}\n",
      "0.910497 (0.006676) with: {'criterion': 'log_loss', 'max_depth': None, 'max_features': 'log2', 'min_samples_leaf': 4, 'n_estimators': 1000, 'random_state': 42}\n",
      "0.909669 (0.005768) with: {'criterion': 'log_loss', 'max_depth': None, 'max_features': 'log2', 'min_samples_leaf': 4, 'n_estimators': 2000, 'random_state': 42}\n",
      "0.958564 (0.005314) with: {'criterion': 'log_loss', 'max_depth': None, 'max_features': None, 'min_samples_leaf': 1, 'n_estimators': 100, 'random_state': 42}\n",
      "0.959392 (0.003559) with: {'criterion': 'log_loss', 'max_depth': None, 'max_features': None, 'min_samples_leaf': 1, 'n_estimators': 500, 'random_state': 42}\n",
      "0.961050 (0.003428) with: {'criterion': 'log_loss', 'max_depth': None, 'max_features': None, 'min_samples_leaf': 1, 'n_estimators': 1000, 'random_state': 42}\n",
      "0.961050 (0.003198) with: {'criterion': 'log_loss', 'max_depth': None, 'max_features': None, 'min_samples_leaf': 1, 'n_estimators': 2000, 'random_state': 42}\n",
      "0.960497 (0.005285) with: {'criterion': 'log_loss', 'max_depth': None, 'max_features': None, 'min_samples_leaf': 2, 'n_estimators': 100, 'random_state': 42}\n",
      "0.961050 (0.002817) with: {'criterion': 'log_loss', 'max_depth': None, 'max_features': None, 'min_samples_leaf': 2, 'n_estimators': 500, 'random_state': 42}\n",
      "0.959392 (0.003559) with: {'criterion': 'log_loss', 'max_depth': None, 'max_features': None, 'min_samples_leaf': 2, 'n_estimators': 1000, 'random_state': 42}\n",
      "0.960221 (0.003848) with: {'criterion': 'log_loss', 'max_depth': None, 'max_features': None, 'min_samples_leaf': 2, 'n_estimators': 2000, 'random_state': 42}\n",
      "0.956354 (0.006572) with: {'criterion': 'log_loss', 'max_depth': None, 'max_features': None, 'min_samples_leaf': 4, 'n_estimators': 100, 'random_state': 42}\n",
      "0.957459 (0.004573) with: {'criterion': 'log_loss', 'max_depth': None, 'max_features': None, 'min_samples_leaf': 4, 'n_estimators': 500, 'random_state': 42}\n",
      "0.958564 (0.003602) with: {'criterion': 'log_loss', 'max_depth': None, 'max_features': None, 'min_samples_leaf': 4, 'n_estimators': 1000, 'random_state': 42}\n",
      "0.959116 (0.003767) with: {'criterion': 'log_loss', 'max_depth': None, 'max_features': None, 'min_samples_leaf': 4, 'n_estimators': 2000, 'random_state': 42}\n"
     ]
    }
   ],
   "source": [
    "#Show score\n",
    "print(\"Best params:\",grid_result.best_params_)\n",
    "print(\"Best score:\",grid_result.best_score_, end=\"\\n\\n\")\n",
    "\n",
    "means = grid_result.cv_results_['mean_test_score']\n",
    "stds = grid_result.cv_results_['std_test_score']\n",
    "params = grid_result.cv_results_['params']\n",
    "for mean, stdev, param in zip(means,stds,params):\n",
    "    print(\"%f (%f) with: %r\"%(mean,stdev,param))"
   ]
  },
  {
   "cell_type": "code",
   "execution_count": null,
   "metadata": {},
   "outputs": [
    {
     "data": {
      "image/png": "[encoded data removed]",
      "text/plain": [
       "<Figure size 700x700 with 1 Axes>"
      ]
     },
     "metadata": {},
     "output_type": "display_data"
    },
    {
     "name": "stdout",
     "output_type": "stream",
     "text": [
      "[0.9654696132596685, 0.9704419889502762, 0.9715469613259667, 0.9726519337016575]\n"
     ]
    }
   ],
   "source": [
    "#Show accuracy score of all n_estimators\n",
    "acc = [means[0], means[1], means[2], means[3]]\n",
    "\n",
    "plt.figure(figsize = (7,7))\n",
    "plt.bar(x=['100', '500', '1000', '2000'], height=acc)\n",
    "\n",
    "plt.title(label = 'n_estimator vs Accuracy Score')\n",
    "plt.xlabel('n_estimators')\n",
    "plt.ylabel('Accuracy')\n",
    "\n",
    "plt.show()\n",
    "\n",
    "print(acc)"
   ]
  },
  {
   "cell_type": "code",
   "execution_count": null,
   "metadata": {},
   "outputs": [
    {
     "data": {
      "image/png": "[encoded data removed]",
      "text/plain": [
       "<Figure size 700x700 with 1 Axes>"
      ]
     },
     "metadata": {},
     "output_type": "display_data"
    },
    {
     "name": "stdout",
     "output_type": "stream",
     "text": [
      "[0.9726519337016575, 0.9698895027624308, 0.9726519337016575]\n"
     ]
    }
   ],
   "source": [
    "#Show accuracy score of all Activation function\n",
    "acc = [means[3], means[39], means[75]]\n",
    "\n",
    "plt.figure(figsize = (7,7))\n",
    "plt.bar(x=ASM_function, height=acc)\n",
    "\n",
    "plt.title(label = 'Activation function vs Accuracy Score (n_estimator = 2000)')\n",
    "plt.xlabel('Activation function')\n",
    "plt.ylabel('Accuracy')\n",
    "\n",
    "plt.show()\n",
    "\n",
    "print(acc)"
   ]
  },
  {
   "cell_type": "code",
   "execution_count": null,
   "metadata": {},
   "outputs": [
    {
     "data": {
      "image/png": "[encoded data removed]",
      "text/plain": [
       "<Figure size 700x700 with 1 Axes>"
      ]
     },
     "metadata": {},
     "output_type": "display_data"
    },
    {
     "name": "stdout",
     "output_type": "stream",
     "text": [
      "[0.9726519337016575, 0.9679558011049725, 0.961049723756906]\n"
     ]
    }
   ],
   "source": [
    "#Show accuracy score of all max_features\n",
    "acc = [means[3], means[15], means[27]]\n",
    "\n",
    "plt.figure(figsize = (7,7))\n",
    "plt.bar(x=['sqrt', 'log2', 'None'], height=acc)\n",
    "\n",
    "plt.title(label = 'max_features vs Accuracy Score (entropy, 2000)')\n",
    "plt.xlabel('max_features')\n",
    "plt.ylabel('Accuracy')\n",
    "\n",
    "plt.show()\n",
    "\n",
    "print(acc)"
   ]
  },
  {
   "cell_type": "code",
   "execution_count": null,
   "metadata": {},
   "outputs": [
    {
     "data": {
      "image/png": "[encoded data removed]",
      "text/plain": [
       "<Figure size 700x700 with 1 Axes>"
      ]
     },
     "metadata": {},
     "output_type": "display_data"
    },
    {
     "name": "stdout",
     "output_type": "stream",
     "text": [
      "[0.9726519337016575, 0.968232044198895, 0.9662983425414364]\n"
     ]
    }
   ],
   "source": [
    "#Show accuracy score of all min_samples_leaf\n",
    "acc = [means[3], means[7], means[11]]\n",
    "\n",
    "plt.figure(figsize = (7,7))\n",
    "plt.bar(x=['1', '2', '4'], height=acc)\n",
    "\n",
    "plt.title(label = 'min_samples_leaf vs Accuracy Score (entropy, sqrt, 2000)')\n",
    "plt.xlabel('min_samples_leaf')\n",
    "plt.ylabel('Accuracy')\n",
    "\n",
    "plt.show()\n",
    "\n",
    "print(acc)"
   ]
  },
  {
   "cell_type": "code",
   "execution_count": null,
   "metadata": {},
   "outputs": [],
   "source": [
    "#Choose best parameter to create Random Forest\n",
    "RFModel = RandomForestClassifier(n_estimators=2000, criterion='entropy', max_depth=None, min_samples_leaf=1, max_features='sqrt', random_state=rseed)"
   ]
  },
  {
   "cell_type": "code",
   "execution_count": null,
   "metadata": {},
   "outputs": [
    {
     "name": "stdout",
     "output_type": "stream",
     "text": [
      "Confusion Matrix\n",
      "[[1074   23]\n",
      " [   8  447]]\n",
      "------------------------------\n",
      "Classification Report: \n",
      "              precision    recall  f1-score   support\n",
      "\n",
      "           0       0.99      0.98      0.99      1097\n",
      "           1       0.95      0.98      0.97       455\n",
      "\n",
      "    accuracy                           0.98      1552\n",
      "   macro avg       0.97      0.98      0.98      1552\n",
      "weighted avg       0.98      0.98      0.98      1552\n",
      "\n"
     ]
    }
   ],
   "source": [
    "#Train and test model\n",
    "RFModel.fit(x_train, y_train)\n",
    "y_pred = RFModel.predict(x_test)\n",
    "\n",
    "#Print confusion matrix and classification report\n",
    "print('Confusion Matrix')\n",
    "print(confusion_matrix(y_test, y_pred))\n",
    "print(\"------------------------------\")\n",
    "print('Classification Report: ')\n",
    "print(classification_report(y_test, y_pred))"
   ]
  },
  {
   "cell_type": "code",
   "execution_count": null,
   "metadata": {},
   "outputs": [
    {
     "data": {
      "image/png": "[encoded data removed]",
      "text/plain": [
       "<Figure size 1500x1500 with 1 Axes>"
      ]
     },
     "metadata": {},
     "output_type": "display_data"
    }
   ],
   "source": [
    "#Show tree structure of Random Forest\n",
    "feature_names = x_train.columns\n",
    "Labels = np.unique(y_train).astype('str')\n",
    "\n",
    "plt.figure(figsize = (15,15))\n",
    "tree.plot_tree(RFModel.estimators_[0], feature_names = feature_names, class_names = Labels, filled = True, fontsize = 9)\n",
    "plt.show()"
   ]
  },
  {
   "cell_type": "markdown",
   "metadata": {},
   "source": [
    "# Test Model"
   ]
  },
  {
   "cell_type": "markdown",
   "metadata": {},
   "source": [
    "## Test data preparation"
   ]
  },
  {
   "cell_type": "code",
   "execution_count": 15,
   "metadata": {},
   "outputs": [
    {
     "data": {
      "text/html": [
       "<div>\n",
       "<style scoped>\n",
       "    .dataframe tbody tr th:only-of-type {\n",
       "        vertical-align: middle;\n",
       "    }\n",
       "\n",
       "    .dataframe tbody tr th {\n",
       "        vertical-align: top;\n",
       "    }\n",
       "\n",
       "    .dataframe thead th {\n",
       "        text-align: right;\n",
       "    }\n",
       "</style>\n",
       "<table border=\"1\" class=\"dataframe\">\n",
       "  <thead>\n",
       "    <tr style=\"text-align: right;\">\n",
       "      <th></th>\n",
       "      <th>the</th>\n",
       "      <th>to</th>\n",
       "      <th>ect</th>\n",
       "      <th>and</th>\n",
       "      <th>for</th>\n",
       "      <th>of</th>\n",
       "      <th>a</th>\n",
       "      <th>you</th>\n",
       "      <th>hou</th>\n",
       "      <th>in</th>\n",
       "      <th>...</th>\n",
       "      <th>connevey</th>\n",
       "      <th>jay</th>\n",
       "      <th>valued</th>\n",
       "      <th>lay</th>\n",
       "      <th>infrastructure</th>\n",
       "      <th>military</th>\n",
       "      <th>allowing</th>\n",
       "      <th>ff</th>\n",
       "      <th>dry</th>\n",
       "      <th>Prediction</th>\n",
       "    </tr>\n",
       "  </thead>\n",
       "  <tbody>\n",
       "    <tr>\n",
       "      <th>0</th>\n",
       "      <td>1</td>\n",
       "      <td>2</td>\n",
       "      <td>1</td>\n",
       "      <td>0</td>\n",
       "      <td>1</td>\n",
       "      <td>0</td>\n",
       "      <td>17</td>\n",
       "      <td>2</td>\n",
       "      <td>0</td>\n",
       "      <td>2</td>\n",
       "      <td>...</td>\n",
       "      <td>0</td>\n",
       "      <td>0</td>\n",
       "      <td>0</td>\n",
       "      <td>0</td>\n",
       "      <td>0</td>\n",
       "      <td>0</td>\n",
       "      <td>0</td>\n",
       "      <td>0</td>\n",
       "      <td>0</td>\n",
       "      <td>0</td>\n",
       "    </tr>\n",
       "    <tr>\n",
       "      <th>1</th>\n",
       "      <td>0</td>\n",
       "      <td>0</td>\n",
       "      <td>0</td>\n",
       "      <td>0</td>\n",
       "      <td>0</td>\n",
       "      <td>0</td>\n",
       "      <td>2</td>\n",
       "      <td>0</td>\n",
       "      <td>0</td>\n",
       "      <td>0</td>\n",
       "      <td>...</td>\n",
       "      <td>0</td>\n",
       "      <td>0</td>\n",
       "      <td>0</td>\n",
       "      <td>0</td>\n",
       "      <td>0</td>\n",
       "      <td>0</td>\n",
       "      <td>0</td>\n",
       "      <td>0</td>\n",
       "      <td>0</td>\n",
       "      <td>0</td>\n",
       "    </tr>\n",
       "    <tr>\n",
       "      <th>2</th>\n",
       "      <td>34</td>\n",
       "      <td>25</td>\n",
       "      <td>2</td>\n",
       "      <td>19</td>\n",
       "      <td>7</td>\n",
       "      <td>12</td>\n",
       "      <td>157</td>\n",
       "      <td>11</td>\n",
       "      <td>4</td>\n",
       "      <td>32</td>\n",
       "      <td>...</td>\n",
       "      <td>0</td>\n",
       "      <td>0</td>\n",
       "      <td>0</td>\n",
       "      <td>0</td>\n",
       "      <td>0</td>\n",
       "      <td>0</td>\n",
       "      <td>0</td>\n",
       "      <td>2</td>\n",
       "      <td>0</td>\n",
       "      <td>0</td>\n",
       "    </tr>\n",
       "    <tr>\n",
       "      <th>3</th>\n",
       "      <td>1</td>\n",
       "      <td>1</td>\n",
       "      <td>0</td>\n",
       "      <td>0</td>\n",
       "      <td>1</td>\n",
       "      <td>0</td>\n",
       "      <td>34</td>\n",
       "      <td>0</td>\n",
       "      <td>1</td>\n",
       "      <td>7</td>\n",
       "      <td>...</td>\n",
       "      <td>0</td>\n",
       "      <td>0</td>\n",
       "      <td>0</td>\n",
       "      <td>0</td>\n",
       "      <td>0</td>\n",
       "      <td>0</td>\n",
       "      <td>0</td>\n",
       "      <td>2</td>\n",
       "      <td>0</td>\n",
       "      <td>1</td>\n",
       "    </tr>\n",
       "    <tr>\n",
       "      <th>4</th>\n",
       "      <td>3</td>\n",
       "      <td>3</td>\n",
       "      <td>0</td>\n",
       "      <td>1</td>\n",
       "      <td>0</td>\n",
       "      <td>0</td>\n",
       "      <td>17</td>\n",
       "      <td>1</td>\n",
       "      <td>0</td>\n",
       "      <td>4</td>\n",
       "      <td>...</td>\n",
       "      <td>0</td>\n",
       "      <td>0</td>\n",
       "      <td>0</td>\n",
       "      <td>0</td>\n",
       "      <td>0</td>\n",
       "      <td>0</td>\n",
       "      <td>0</td>\n",
       "      <td>0</td>\n",
       "      <td>0</td>\n",
       "      <td>0</td>\n",
       "    </tr>\n",
       "    <tr>\n",
       "      <th>...</th>\n",
       "      <td>...</td>\n",
       "      <td>...</td>\n",
       "      <td>...</td>\n",
       "      <td>...</td>\n",
       "      <td>...</td>\n",
       "      <td>...</td>\n",
       "      <td>...</td>\n",
       "      <td>...</td>\n",
       "      <td>...</td>\n",
       "      <td>...</td>\n",
       "      <td>...</td>\n",
       "      <td>...</td>\n",
       "      <td>...</td>\n",
       "      <td>...</td>\n",
       "      <td>...</td>\n",
       "      <td>...</td>\n",
       "      <td>...</td>\n",
       "      <td>...</td>\n",
       "      <td>...</td>\n",
       "      <td>...</td>\n",
       "      <td>...</td>\n",
       "    </tr>\n",
       "    <tr>\n",
       "      <th>5166</th>\n",
       "      <td>3</td>\n",
       "      <td>2</td>\n",
       "      <td>1</td>\n",
       "      <td>0</td>\n",
       "      <td>1</td>\n",
       "      <td>0</td>\n",
       "      <td>15</td>\n",
       "      <td>0</td>\n",
       "      <td>1</td>\n",
       "      <td>0</td>\n",
       "      <td>...</td>\n",
       "      <td>0</td>\n",
       "      <td>0</td>\n",
       "      <td>0</td>\n",
       "      <td>0</td>\n",
       "      <td>0</td>\n",
       "      <td>0</td>\n",
       "      <td>0</td>\n",
       "      <td>0</td>\n",
       "      <td>0</td>\n",
       "      <td>0</td>\n",
       "    </tr>\n",
       "    <tr>\n",
       "      <th>5167</th>\n",
       "      <td>4</td>\n",
       "      <td>7</td>\n",
       "      <td>1</td>\n",
       "      <td>4</td>\n",
       "      <td>3</td>\n",
       "      <td>0</td>\n",
       "      <td>40</td>\n",
       "      <td>1</td>\n",
       "      <td>0</td>\n",
       "      <td>8</td>\n",
       "      <td>...</td>\n",
       "      <td>0</td>\n",
       "      <td>0</td>\n",
       "      <td>0</td>\n",
       "      <td>0</td>\n",
       "      <td>0</td>\n",
       "      <td>0</td>\n",
       "      <td>0</td>\n",
       "      <td>0</td>\n",
       "      <td>0</td>\n",
       "      <td>0</td>\n",
       "    </tr>\n",
       "    <tr>\n",
       "      <th>5168</th>\n",
       "      <td>1</td>\n",
       "      <td>2</td>\n",
       "      <td>1</td>\n",
       "      <td>0</td>\n",
       "      <td>1</td>\n",
       "      <td>0</td>\n",
       "      <td>20</td>\n",
       "      <td>1</td>\n",
       "      <td>1</td>\n",
       "      <td>6</td>\n",
       "      <td>...</td>\n",
       "      <td>0</td>\n",
       "      <td>0</td>\n",
       "      <td>0</td>\n",
       "      <td>0</td>\n",
       "      <td>0</td>\n",
       "      <td>0</td>\n",
       "      <td>0</td>\n",
       "      <td>1</td>\n",
       "      <td>0</td>\n",
       "      <td>0</td>\n",
       "    </tr>\n",
       "    <tr>\n",
       "      <th>5169</th>\n",
       "      <td>8</td>\n",
       "      <td>0</td>\n",
       "      <td>0</td>\n",
       "      <td>2</td>\n",
       "      <td>2</td>\n",
       "      <td>0</td>\n",
       "      <td>25</td>\n",
       "      <td>1</td>\n",
       "      <td>1</td>\n",
       "      <td>6</td>\n",
       "      <td>...</td>\n",
       "      <td>0</td>\n",
       "      <td>0</td>\n",
       "      <td>0</td>\n",
       "      <td>1</td>\n",
       "      <td>0</td>\n",
       "      <td>0</td>\n",
       "      <td>0</td>\n",
       "      <td>1</td>\n",
       "      <td>0</td>\n",
       "      <td>0</td>\n",
       "    </tr>\n",
       "    <tr>\n",
       "      <th>5170</th>\n",
       "      <td>7</td>\n",
       "      <td>9</td>\n",
       "      <td>1</td>\n",
       "      <td>5</td>\n",
       "      <td>3</td>\n",
       "      <td>5</td>\n",
       "      <td>55</td>\n",
       "      <td>17</td>\n",
       "      <td>0</td>\n",
       "      <td>23</td>\n",
       "      <td>...</td>\n",
       "      <td>0</td>\n",
       "      <td>0</td>\n",
       "      <td>1</td>\n",
       "      <td>0</td>\n",
       "      <td>0</td>\n",
       "      <td>0</td>\n",
       "      <td>0</td>\n",
       "      <td>0</td>\n",
       "      <td>0</td>\n",
       "      <td>1</td>\n",
       "    </tr>\n",
       "  </tbody>\n",
       "</table>\n",
       "<p>5171 rows × 3001 columns</p>\n",
       "</div>"
      ],
      "text/plain": [
       "      the  to  ect  and  for  of    a  you  hou  in  ...  connevey  jay  \\\n",
       "0       1   2    1    0    1   0   17    2    0   2  ...         0    0   \n",
       "1       0   0    0    0    0   0    2    0    0   0  ...         0    0   \n",
       "2      34  25    2   19    7  12  157   11    4  32  ...         0    0   \n",
       "3       1   1    0    0    1   0   34    0    1   7  ...         0    0   \n",
       "4       3   3    0    1    0   0   17    1    0   4  ...         0    0   \n",
       "...   ...  ..  ...  ...  ...  ..  ...  ...  ...  ..  ...       ...  ...   \n",
       "5166    3   2    1    0    1   0   15    0    1   0  ...         0    0   \n",
       "5167    4   7    1    4    3   0   40    1    0   8  ...         0    0   \n",
       "5168    1   2    1    0    1   0   20    1    1   6  ...         0    0   \n",
       "5169    8   0    0    2    2   0   25    1    1   6  ...         0    0   \n",
       "5170    7   9    1    5    3   5   55   17    0  23  ...         0    0   \n",
       "\n",
       "      valued  lay  infrastructure  military  allowing  ff  dry  Prediction  \n",
       "0          0    0               0         0         0   0    0           0  \n",
       "1          0    0               0         0         0   0    0           0  \n",
       "2          0    0               0         0         0   2    0           0  \n",
       "3          0    0               0         0         0   2    0           1  \n",
       "4          0    0               0         0         0   0    0           0  \n",
       "...      ...  ...             ...       ...       ...  ..  ...         ...  \n",
       "5166       0    0               0         0         0   0    0           0  \n",
       "5167       0    0               0         0         0   0    0           0  \n",
       "5168       0    0               0         0         0   1    0           0  \n",
       "5169       0    1               0         0         0   1    0           0  \n",
       "5170       1    0               0         0         0   0    0           1  \n",
       "\n",
       "[5171 rows x 3001 columns]"
      ]
     },
     "execution_count": 15,
     "metadata": {},
     "output_type": "execute_result"
    }
   ],
   "source": [
    "#Read test datatset\n",
    "df_test = pd.read_csv(\"./Test_dataset.csv\")\n",
    "df_test"
   ]
  },
  {
   "cell_type": "code",
   "execution_count": 16,
   "metadata": {},
   "outputs": [
    {
     "data": {
      "text/html": [
       "<div>\n",
       "<style scoped>\n",
       "    .dataframe tbody tr th:only-of-type {\n",
       "        vertical-align: middle;\n",
       "    }\n",
       "\n",
       "    .dataframe tbody tr th {\n",
       "        vertical-align: top;\n",
       "    }\n",
       "\n",
       "    .dataframe thead th {\n",
       "        text-align: right;\n",
       "    }\n",
       "</style>\n",
       "<table border=\"1\" class=\"dataframe\">\n",
       "  <thead>\n",
       "    <tr style=\"text-align: right;\">\n",
       "      <th></th>\n",
       "      <th>the</th>\n",
       "      <th>to</th>\n",
       "      <th>ect</th>\n",
       "      <th>and</th>\n",
       "      <th>for</th>\n",
       "      <th>of</th>\n",
       "      <th>a</th>\n",
       "      <th>you</th>\n",
       "      <th>hou</th>\n",
       "      <th>in</th>\n",
       "      <th>...</th>\n",
       "      <th>enhancements</th>\n",
       "      <th>connevey</th>\n",
       "      <th>jay</th>\n",
       "      <th>valued</th>\n",
       "      <th>lay</th>\n",
       "      <th>infrastructure</th>\n",
       "      <th>military</th>\n",
       "      <th>allowing</th>\n",
       "      <th>ff</th>\n",
       "      <th>dry</th>\n",
       "    </tr>\n",
       "  </thead>\n",
       "  <tbody>\n",
       "    <tr>\n",
       "      <th>0</th>\n",
       "      <td>1</td>\n",
       "      <td>2</td>\n",
       "      <td>1</td>\n",
       "      <td>0</td>\n",
       "      <td>1</td>\n",
       "      <td>0</td>\n",
       "      <td>17</td>\n",
       "      <td>2</td>\n",
       "      <td>0</td>\n",
       "      <td>2</td>\n",
       "      <td>...</td>\n",
       "      <td>0</td>\n",
       "      <td>0</td>\n",
       "      <td>0</td>\n",
       "      <td>0</td>\n",
       "      <td>0</td>\n",
       "      <td>0</td>\n",
       "      <td>0</td>\n",
       "      <td>0</td>\n",
       "      <td>0</td>\n",
       "      <td>0</td>\n",
       "    </tr>\n",
       "    <tr>\n",
       "      <th>1</th>\n",
       "      <td>0</td>\n",
       "      <td>0</td>\n",
       "      <td>0</td>\n",
       "      <td>0</td>\n",
       "      <td>0</td>\n",
       "      <td>0</td>\n",
       "      <td>2</td>\n",
       "      <td>0</td>\n",
       "      <td>0</td>\n",
       "      <td>0</td>\n",
       "      <td>...</td>\n",
       "      <td>0</td>\n",
       "      <td>0</td>\n",
       "      <td>0</td>\n",
       "      <td>0</td>\n",
       "      <td>0</td>\n",
       "      <td>0</td>\n",
       "      <td>0</td>\n",
       "      <td>0</td>\n",
       "      <td>0</td>\n",
       "      <td>0</td>\n",
       "    </tr>\n",
       "    <tr>\n",
       "      <th>2</th>\n",
       "      <td>34</td>\n",
       "      <td>25</td>\n",
       "      <td>2</td>\n",
       "      <td>19</td>\n",
       "      <td>7</td>\n",
       "      <td>12</td>\n",
       "      <td>157</td>\n",
       "      <td>11</td>\n",
       "      <td>4</td>\n",
       "      <td>32</td>\n",
       "      <td>...</td>\n",
       "      <td>0</td>\n",
       "      <td>0</td>\n",
       "      <td>0</td>\n",
       "      <td>0</td>\n",
       "      <td>0</td>\n",
       "      <td>0</td>\n",
       "      <td>0</td>\n",
       "      <td>0</td>\n",
       "      <td>2</td>\n",
       "      <td>0</td>\n",
       "    </tr>\n",
       "    <tr>\n",
       "      <th>3</th>\n",
       "      <td>1</td>\n",
       "      <td>1</td>\n",
       "      <td>0</td>\n",
       "      <td>0</td>\n",
       "      <td>1</td>\n",
       "      <td>0</td>\n",
       "      <td>34</td>\n",
       "      <td>0</td>\n",
       "      <td>1</td>\n",
       "      <td>7</td>\n",
       "      <td>...</td>\n",
       "      <td>0</td>\n",
       "      <td>0</td>\n",
       "      <td>0</td>\n",
       "      <td>0</td>\n",
       "      <td>0</td>\n",
       "      <td>0</td>\n",
       "      <td>0</td>\n",
       "      <td>0</td>\n",
       "      <td>2</td>\n",
       "      <td>0</td>\n",
       "    </tr>\n",
       "    <tr>\n",
       "      <th>4</th>\n",
       "      <td>3</td>\n",
       "      <td>3</td>\n",
       "      <td>0</td>\n",
       "      <td>1</td>\n",
       "      <td>0</td>\n",
       "      <td>0</td>\n",
       "      <td>17</td>\n",
       "      <td>1</td>\n",
       "      <td>0</td>\n",
       "      <td>4</td>\n",
       "      <td>...</td>\n",
       "      <td>0</td>\n",
       "      <td>0</td>\n",
       "      <td>0</td>\n",
       "      <td>0</td>\n",
       "      <td>0</td>\n",
       "      <td>0</td>\n",
       "      <td>0</td>\n",
       "      <td>0</td>\n",
       "      <td>0</td>\n",
       "      <td>0</td>\n",
       "    </tr>\n",
       "    <tr>\n",
       "      <th>...</th>\n",
       "      <td>...</td>\n",
       "      <td>...</td>\n",
       "      <td>...</td>\n",
       "      <td>...</td>\n",
       "      <td>...</td>\n",
       "      <td>...</td>\n",
       "      <td>...</td>\n",
       "      <td>...</td>\n",
       "      <td>...</td>\n",
       "      <td>...</td>\n",
       "      <td>...</td>\n",
       "      <td>...</td>\n",
       "      <td>...</td>\n",
       "      <td>...</td>\n",
       "      <td>...</td>\n",
       "      <td>...</td>\n",
       "      <td>...</td>\n",
       "      <td>...</td>\n",
       "      <td>...</td>\n",
       "      <td>...</td>\n",
       "      <td>...</td>\n",
       "    </tr>\n",
       "    <tr>\n",
       "      <th>5166</th>\n",
       "      <td>3</td>\n",
       "      <td>2</td>\n",
       "      <td>1</td>\n",
       "      <td>0</td>\n",
       "      <td>1</td>\n",
       "      <td>0</td>\n",
       "      <td>15</td>\n",
       "      <td>0</td>\n",
       "      <td>1</td>\n",
       "      <td>0</td>\n",
       "      <td>...</td>\n",
       "      <td>0</td>\n",
       "      <td>0</td>\n",
       "      <td>0</td>\n",
       "      <td>0</td>\n",
       "      <td>0</td>\n",
       "      <td>0</td>\n",
       "      <td>0</td>\n",
       "      <td>0</td>\n",
       "      <td>0</td>\n",
       "      <td>0</td>\n",
       "    </tr>\n",
       "    <tr>\n",
       "      <th>5167</th>\n",
       "      <td>4</td>\n",
       "      <td>7</td>\n",
       "      <td>1</td>\n",
       "      <td>4</td>\n",
       "      <td>3</td>\n",
       "      <td>0</td>\n",
       "      <td>40</td>\n",
       "      <td>1</td>\n",
       "      <td>0</td>\n",
       "      <td>8</td>\n",
       "      <td>...</td>\n",
       "      <td>0</td>\n",
       "      <td>0</td>\n",
       "      <td>0</td>\n",
       "      <td>0</td>\n",
       "      <td>0</td>\n",
       "      <td>0</td>\n",
       "      <td>0</td>\n",
       "      <td>0</td>\n",
       "      <td>0</td>\n",
       "      <td>0</td>\n",
       "    </tr>\n",
       "    <tr>\n",
       "      <th>5168</th>\n",
       "      <td>1</td>\n",
       "      <td>2</td>\n",
       "      <td>1</td>\n",
       "      <td>0</td>\n",
       "      <td>1</td>\n",
       "      <td>0</td>\n",
       "      <td>20</td>\n",
       "      <td>1</td>\n",
       "      <td>1</td>\n",
       "      <td>6</td>\n",
       "      <td>...</td>\n",
       "      <td>0</td>\n",
       "      <td>0</td>\n",
       "      <td>0</td>\n",
       "      <td>0</td>\n",
       "      <td>0</td>\n",
       "      <td>0</td>\n",
       "      <td>0</td>\n",
       "      <td>0</td>\n",
       "      <td>1</td>\n",
       "      <td>0</td>\n",
       "    </tr>\n",
       "    <tr>\n",
       "      <th>5169</th>\n",
       "      <td>8</td>\n",
       "      <td>0</td>\n",
       "      <td>0</td>\n",
       "      <td>2</td>\n",
       "      <td>2</td>\n",
       "      <td>0</td>\n",
       "      <td>25</td>\n",
       "      <td>1</td>\n",
       "      <td>1</td>\n",
       "      <td>6</td>\n",
       "      <td>...</td>\n",
       "      <td>0</td>\n",
       "      <td>0</td>\n",
       "      <td>0</td>\n",
       "      <td>0</td>\n",
       "      <td>1</td>\n",
       "      <td>0</td>\n",
       "      <td>0</td>\n",
       "      <td>0</td>\n",
       "      <td>1</td>\n",
       "      <td>0</td>\n",
       "    </tr>\n",
       "    <tr>\n",
       "      <th>5170</th>\n",
       "      <td>7</td>\n",
       "      <td>9</td>\n",
       "      <td>1</td>\n",
       "      <td>5</td>\n",
       "      <td>3</td>\n",
       "      <td>5</td>\n",
       "      <td>55</td>\n",
       "      <td>17</td>\n",
       "      <td>0</td>\n",
       "      <td>23</td>\n",
       "      <td>...</td>\n",
       "      <td>0</td>\n",
       "      <td>0</td>\n",
       "      <td>0</td>\n",
       "      <td>1</td>\n",
       "      <td>0</td>\n",
       "      <td>0</td>\n",
       "      <td>0</td>\n",
       "      <td>0</td>\n",
       "      <td>0</td>\n",
       "      <td>0</td>\n",
       "    </tr>\n",
       "  </tbody>\n",
       "</table>\n",
       "<p>5171 rows × 3000 columns</p>\n",
       "</div>"
      ],
      "text/plain": [
       "      the  to  ect  and  for  of    a  you  hou  in  ...  enhancements  \\\n",
       "0       1   2    1    0    1   0   17    2    0   2  ...             0   \n",
       "1       0   0    0    0    0   0    2    0    0   0  ...             0   \n",
       "2      34  25    2   19    7  12  157   11    4  32  ...             0   \n",
       "3       1   1    0    0    1   0   34    0    1   7  ...             0   \n",
       "4       3   3    0    1    0   0   17    1    0   4  ...             0   \n",
       "...   ...  ..  ...  ...  ...  ..  ...  ...  ...  ..  ...           ...   \n",
       "5166    3   2    1    0    1   0   15    0    1   0  ...             0   \n",
       "5167    4   7    1    4    3   0   40    1    0   8  ...             0   \n",
       "5168    1   2    1    0    1   0   20    1    1   6  ...             0   \n",
       "5169    8   0    0    2    2   0   25    1    1   6  ...             0   \n",
       "5170    7   9    1    5    3   5   55   17    0  23  ...             0   \n",
       "\n",
       "      connevey  jay  valued  lay  infrastructure  military  allowing  ff  dry  \n",
       "0            0    0       0    0               0         0         0   0    0  \n",
       "1            0    0       0    0               0         0         0   0    0  \n",
       "2            0    0       0    0               0         0         0   2    0  \n",
       "3            0    0       0    0               0         0         0   2    0  \n",
       "4            0    0       0    0               0         0         0   0    0  \n",
       "...        ...  ...     ...  ...             ...       ...       ...  ..  ...  \n",
       "5166         0    0       0    0               0         0         0   0    0  \n",
       "5167         0    0       0    0               0         0         0   0    0  \n",
       "5168         0    0       0    0               0         0         0   1    0  \n",
       "5169         0    0       0    1               0         0         0   1    0  \n",
       "5170         0    0       1    0               0         0         0   0    0  \n",
       "\n",
       "[5171 rows x 3000 columns]"
      ]
     },
     "execution_count": 16,
     "metadata": {},
     "output_type": "execute_result"
    }
   ],
   "source": [
    "df_test_x = df_test.drop(columns='Prediction')\n",
    "df_test_x"
   ]
  },
  {
   "cell_type": "code",
   "execution_count": 18,
   "metadata": {},
   "outputs": [
    {
     "data": {
      "text/html": [
       "<div>\n",
       "<style scoped>\n",
       "    .dataframe tbody tr th:only-of-type {\n",
       "        vertical-align: middle;\n",
       "    }\n",
       "\n",
       "    .dataframe tbody tr th {\n",
       "        vertical-align: top;\n",
       "    }\n",
       "\n",
       "    .dataframe thead th {\n",
       "        text-align: right;\n",
       "    }\n",
       "</style>\n",
       "<table border=\"1\" class=\"dataframe\">\n",
       "  <thead>\n",
       "    <tr style=\"text-align: right;\">\n",
       "      <th></th>\n",
       "      <th>the</th>\n",
       "      <th>to</th>\n",
       "      <th>ect</th>\n",
       "      <th>and</th>\n",
       "      <th>for</th>\n",
       "      <th>of</th>\n",
       "      <th>a</th>\n",
       "      <th>you</th>\n",
       "      <th>hou</th>\n",
       "      <th>in</th>\n",
       "      <th>...</th>\n",
       "      <th>enhancements</th>\n",
       "      <th>connevey</th>\n",
       "      <th>jay</th>\n",
       "      <th>valued</th>\n",
       "      <th>lay</th>\n",
       "      <th>infrastructure</th>\n",
       "      <th>military</th>\n",
       "      <th>allowing</th>\n",
       "      <th>ff</th>\n",
       "      <th>dry</th>\n",
       "    </tr>\n",
       "  </thead>\n",
       "  <tbody>\n",
       "    <tr>\n",
       "      <th>0</th>\n",
       "      <td>-0.480298</td>\n",
       "      <td>-0.439299</td>\n",
       "      <td>-0.293895</td>\n",
       "      <td>-0.508752</td>\n",
       "      <td>-0.453991</td>\n",
       "      <td>-0.421725</td>\n",
       "      <td>-0.439869</td>\n",
       "      <td>-0.108147</td>\n",
       "      <td>-0.290556</td>\n",
       "      <td>-0.446065</td>\n",
       "      <td>...</td>\n",
       "      <td>-0.02919</td>\n",
       "      <td>-0.047525</td>\n",
       "      <td>-0.062944</td>\n",
       "      <td>-0.091138</td>\n",
       "      <td>-0.172137</td>\n",
       "      <td>-0.044197</td>\n",
       "      <td>-0.04733</td>\n",
       "      <td>-0.056285</td>\n",
       "      <td>-0.329048</td>\n",
       "      <td>-0.070971</td>\n",
       "    </tr>\n",
       "    <tr>\n",
       "      <th>1</th>\n",
       "      <td>-0.565449</td>\n",
       "      <td>-0.649083</td>\n",
       "      <td>-0.364818</td>\n",
       "      <td>-0.508752</td>\n",
       "      <td>-0.667663</td>\n",
       "      <td>-0.421725</td>\n",
       "      <td>-0.611169</td>\n",
       "      <td>-0.571751</td>\n",
       "      <td>-0.290556</td>\n",
       "      <td>-0.549800</td>\n",
       "      <td>...</td>\n",
       "      <td>-0.02919</td>\n",
       "      <td>-0.047525</td>\n",
       "      <td>-0.062944</td>\n",
       "      <td>-0.091138</td>\n",
       "      <td>-0.172137</td>\n",
       "      <td>-0.044197</td>\n",
       "      <td>-0.04733</td>\n",
       "      <td>-0.056285</td>\n",
       "      <td>-0.329048</td>\n",
       "      <td>-0.070971</td>\n",
       "    </tr>\n",
       "    <tr>\n",
       "      <th>2</th>\n",
       "      <td>2.329677</td>\n",
       "      <td>1.973207</td>\n",
       "      <td>-0.222972</td>\n",
       "      <td>2.634142</td>\n",
       "      <td>0.828041</td>\n",
       "      <td>1.504672</td>\n",
       "      <td>1.158931</td>\n",
       "      <td>1.978070</td>\n",
       "      <td>0.283563</td>\n",
       "      <td>1.109949</td>\n",
       "      <td>...</td>\n",
       "      <td>-0.02919</td>\n",
       "      <td>-0.047525</td>\n",
       "      <td>-0.062944</td>\n",
       "      <td>-0.091138</td>\n",
       "      <td>-0.172137</td>\n",
       "      <td>-0.044197</td>\n",
       "      <td>-0.04733</td>\n",
       "      <td>-0.056285</td>\n",
       "      <td>0.390393</td>\n",
       "      <td>-0.070971</td>\n",
       "    </tr>\n",
       "    <tr>\n",
       "      <th>3</th>\n",
       "      <td>-0.480298</td>\n",
       "      <td>-0.544191</td>\n",
       "      <td>-0.364818</td>\n",
       "      <td>-0.508752</td>\n",
       "      <td>-0.453991</td>\n",
       "      <td>-0.421725</td>\n",
       "      <td>-0.245729</td>\n",
       "      <td>-0.571751</td>\n",
       "      <td>-0.147026</td>\n",
       "      <td>-0.186730</td>\n",
       "      <td>...</td>\n",
       "      <td>-0.02919</td>\n",
       "      <td>-0.047525</td>\n",
       "      <td>-0.062944</td>\n",
       "      <td>-0.091138</td>\n",
       "      <td>-0.172137</td>\n",
       "      <td>-0.044197</td>\n",
       "      <td>-0.04733</td>\n",
       "      <td>-0.056285</td>\n",
       "      <td>0.390393</td>\n",
       "      <td>-0.070971</td>\n",
       "    </tr>\n",
       "    <tr>\n",
       "      <th>4</th>\n",
       "      <td>-0.309997</td>\n",
       "      <td>-0.334408</td>\n",
       "      <td>-0.364818</td>\n",
       "      <td>-0.343336</td>\n",
       "      <td>-0.667663</td>\n",
       "      <td>-0.421725</td>\n",
       "      <td>-0.439869</td>\n",
       "      <td>-0.339949</td>\n",
       "      <td>-0.290556</td>\n",
       "      <td>-0.342331</td>\n",
       "      <td>...</td>\n",
       "      <td>-0.02919</td>\n",
       "      <td>-0.047525</td>\n",
       "      <td>-0.062944</td>\n",
       "      <td>-0.091138</td>\n",
       "      <td>-0.172137</td>\n",
       "      <td>-0.044197</td>\n",
       "      <td>-0.04733</td>\n",
       "      <td>-0.056285</td>\n",
       "      <td>-0.329048</td>\n",
       "      <td>-0.070971</td>\n",
       "    </tr>\n",
       "    <tr>\n",
       "      <th>...</th>\n",
       "      <td>...</td>\n",
       "      <td>...</td>\n",
       "      <td>...</td>\n",
       "      <td>...</td>\n",
       "      <td>...</td>\n",
       "      <td>...</td>\n",
       "      <td>...</td>\n",
       "      <td>...</td>\n",
       "      <td>...</td>\n",
       "      <td>...</td>\n",
       "      <td>...</td>\n",
       "      <td>...</td>\n",
       "      <td>...</td>\n",
       "      <td>...</td>\n",
       "      <td>...</td>\n",
       "      <td>...</td>\n",
       "      <td>...</td>\n",
       "      <td>...</td>\n",
       "      <td>...</td>\n",
       "      <td>...</td>\n",
       "      <td>...</td>\n",
       "    </tr>\n",
       "    <tr>\n",
       "      <th>5166</th>\n",
       "      <td>-0.309997</td>\n",
       "      <td>-0.439299</td>\n",
       "      <td>-0.293895</td>\n",
       "      <td>-0.508752</td>\n",
       "      <td>-0.453991</td>\n",
       "      <td>-0.421725</td>\n",
       "      <td>-0.462709</td>\n",
       "      <td>-0.571751</td>\n",
       "      <td>-0.147026</td>\n",
       "      <td>-0.549800</td>\n",
       "      <td>...</td>\n",
       "      <td>-0.02919</td>\n",
       "      <td>-0.047525</td>\n",
       "      <td>-0.062944</td>\n",
       "      <td>-0.091138</td>\n",
       "      <td>-0.172137</td>\n",
       "      <td>-0.044197</td>\n",
       "      <td>-0.04733</td>\n",
       "      <td>-0.056285</td>\n",
       "      <td>-0.329048</td>\n",
       "      <td>-0.070971</td>\n",
       "    </tr>\n",
       "    <tr>\n",
       "      <th>5167</th>\n",
       "      <td>-0.224846</td>\n",
       "      <td>0.085158</td>\n",
       "      <td>-0.293895</td>\n",
       "      <td>0.152910</td>\n",
       "      <td>-0.026647</td>\n",
       "      <td>-0.421725</td>\n",
       "      <td>-0.177209</td>\n",
       "      <td>-0.339949</td>\n",
       "      <td>-0.290556</td>\n",
       "      <td>-0.134863</td>\n",
       "      <td>...</td>\n",
       "      <td>-0.02919</td>\n",
       "      <td>-0.047525</td>\n",
       "      <td>-0.062944</td>\n",
       "      <td>-0.091138</td>\n",
       "      <td>-0.172137</td>\n",
       "      <td>-0.044197</td>\n",
       "      <td>-0.04733</td>\n",
       "      <td>-0.056285</td>\n",
       "      <td>-0.329048</td>\n",
       "      <td>-0.070971</td>\n",
       "    </tr>\n",
       "    <tr>\n",
       "      <th>5168</th>\n",
       "      <td>-0.480298</td>\n",
       "      <td>-0.439299</td>\n",
       "      <td>-0.293895</td>\n",
       "      <td>-0.508752</td>\n",
       "      <td>-0.453991</td>\n",
       "      <td>-0.421725</td>\n",
       "      <td>-0.405609</td>\n",
       "      <td>-0.339949</td>\n",
       "      <td>-0.147026</td>\n",
       "      <td>-0.238597</td>\n",
       "      <td>...</td>\n",
       "      <td>-0.02919</td>\n",
       "      <td>-0.047525</td>\n",
       "      <td>-0.062944</td>\n",
       "      <td>-0.091138</td>\n",
       "      <td>-0.172137</td>\n",
       "      <td>-0.044197</td>\n",
       "      <td>-0.04733</td>\n",
       "      <td>-0.056285</td>\n",
       "      <td>0.030672</td>\n",
       "      <td>-0.070971</td>\n",
       "    </tr>\n",
       "    <tr>\n",
       "      <th>5169</th>\n",
       "      <td>0.115757</td>\n",
       "      <td>-0.649083</td>\n",
       "      <td>-0.364818</td>\n",
       "      <td>-0.177921</td>\n",
       "      <td>-0.240319</td>\n",
       "      <td>-0.421725</td>\n",
       "      <td>-0.348509</td>\n",
       "      <td>-0.339949</td>\n",
       "      <td>-0.147026</td>\n",
       "      <td>-0.238597</td>\n",
       "      <td>...</td>\n",
       "      <td>-0.02919</td>\n",
       "      <td>-0.047525</td>\n",
       "      <td>-0.062944</td>\n",
       "      <td>-0.091138</td>\n",
       "      <td>1.583861</td>\n",
       "      <td>-0.044197</td>\n",
       "      <td>-0.04733</td>\n",
       "      <td>-0.056285</td>\n",
       "      <td>0.030672</td>\n",
       "      <td>-0.070971</td>\n",
       "    </tr>\n",
       "    <tr>\n",
       "      <th>5170</th>\n",
       "      <td>0.030606</td>\n",
       "      <td>0.294942</td>\n",
       "      <td>-0.293895</td>\n",
       "      <td>0.318326</td>\n",
       "      <td>-0.026647</td>\n",
       "      <td>0.380940</td>\n",
       "      <td>-0.005909</td>\n",
       "      <td>3.368882</td>\n",
       "      <td>-0.290556</td>\n",
       "      <td>0.643145</td>\n",
       "      <td>...</td>\n",
       "      <td>-0.02919</td>\n",
       "      <td>-0.047525</td>\n",
       "      <td>-0.062944</td>\n",
       "      <td>8.479167</td>\n",
       "      <td>-0.172137</td>\n",
       "      <td>-0.044197</td>\n",
       "      <td>-0.04733</td>\n",
       "      <td>-0.056285</td>\n",
       "      <td>-0.329048</td>\n",
       "      <td>-0.070971</td>\n",
       "    </tr>\n",
       "  </tbody>\n",
       "</table>\n",
       "<p>5171 rows × 3000 columns</p>\n",
       "</div>"
      ],
      "text/plain": [
       "           the        to       ect       and       for        of         a  \\\n",
       "0    -0.480298 -0.439299 -0.293895 -0.508752 -0.453991 -0.421725 -0.439869   \n",
       "1    -0.565449 -0.649083 -0.364818 -0.508752 -0.667663 -0.421725 -0.611169   \n",
       "2     2.329677  1.973207 -0.222972  2.634142  0.828041  1.504672  1.158931   \n",
       "3    -0.480298 -0.544191 -0.364818 -0.508752 -0.453991 -0.421725 -0.245729   \n",
       "4    -0.309997 -0.334408 -0.364818 -0.343336 -0.667663 -0.421725 -0.439869   \n",
       "...        ...       ...       ...       ...       ...       ...       ...   \n",
       "5166 -0.309997 -0.439299 -0.293895 -0.508752 -0.453991 -0.421725 -0.462709   \n",
       "5167 -0.224846  0.085158 -0.293895  0.152910 -0.026647 -0.421725 -0.177209   \n",
       "5168 -0.480298 -0.439299 -0.293895 -0.508752 -0.453991 -0.421725 -0.405609   \n",
       "5169  0.115757 -0.649083 -0.364818 -0.177921 -0.240319 -0.421725 -0.348509   \n",
       "5170  0.030606  0.294942 -0.293895  0.318326 -0.026647  0.380940 -0.005909   \n",
       "\n",
       "           you       hou        in  ...  enhancements  connevey       jay  \\\n",
       "0    -0.108147 -0.290556 -0.446065  ...      -0.02919 -0.047525 -0.062944   \n",
       "1    -0.571751 -0.290556 -0.549800  ...      -0.02919 -0.047525 -0.062944   \n",
       "2     1.978070  0.283563  1.109949  ...      -0.02919 -0.047525 -0.062944   \n",
       "3    -0.571751 -0.147026 -0.186730  ...      -0.02919 -0.047525 -0.062944   \n",
       "4    -0.339949 -0.290556 -0.342331  ...      -0.02919 -0.047525 -0.062944   \n",
       "...        ...       ...       ...  ...           ...       ...       ...   \n",
       "5166 -0.571751 -0.147026 -0.549800  ...      -0.02919 -0.047525 -0.062944   \n",
       "5167 -0.339949 -0.290556 -0.134863  ...      -0.02919 -0.047525 -0.062944   \n",
       "5168 -0.339949 -0.147026 -0.238597  ...      -0.02919 -0.047525 -0.062944   \n",
       "5169 -0.339949 -0.147026 -0.238597  ...      -0.02919 -0.047525 -0.062944   \n",
       "5170  3.368882 -0.290556  0.643145  ...      -0.02919 -0.047525 -0.062944   \n",
       "\n",
       "        valued       lay  infrastructure  military  allowing        ff  \\\n",
       "0    -0.091138 -0.172137       -0.044197  -0.04733 -0.056285 -0.329048   \n",
       "1    -0.091138 -0.172137       -0.044197  -0.04733 -0.056285 -0.329048   \n",
       "2    -0.091138 -0.172137       -0.044197  -0.04733 -0.056285  0.390393   \n",
       "3    -0.091138 -0.172137       -0.044197  -0.04733 -0.056285  0.390393   \n",
       "4    -0.091138 -0.172137       -0.044197  -0.04733 -0.056285 -0.329048   \n",
       "...        ...       ...             ...       ...       ...       ...   \n",
       "5166 -0.091138 -0.172137       -0.044197  -0.04733 -0.056285 -0.329048   \n",
       "5167 -0.091138 -0.172137       -0.044197  -0.04733 -0.056285 -0.329048   \n",
       "5168 -0.091138 -0.172137       -0.044197  -0.04733 -0.056285  0.030672   \n",
       "5169 -0.091138  1.583861       -0.044197  -0.04733 -0.056285  0.030672   \n",
       "5170  8.479167 -0.172137       -0.044197  -0.04733 -0.056285 -0.329048   \n",
       "\n",
       "           dry  \n",
       "0    -0.070971  \n",
       "1    -0.070971  \n",
       "2    -0.070971  \n",
       "3    -0.070971  \n",
       "4    -0.070971  \n",
       "...        ...  \n",
       "5166 -0.070971  \n",
       "5167 -0.070971  \n",
       "5168 -0.070971  \n",
       "5169 -0.070971  \n",
       "5170 -0.070971  \n",
       "\n",
       "[5171 rows x 3000 columns]"
      ]
     },
     "execution_count": 18,
     "metadata": {},
     "output_type": "execute_result"
    }
   ],
   "source": [
    "test_scaled_x = StandardScaler().fit(raw_x).transform(df_test_x)\n",
    "df_test_std_x = pd.DataFrame(data=test_scaled_x, columns=df_test_x.columns)\n",
    "df_test_std_x"
   ]
  },
  {
   "cell_type": "code",
   "execution_count": 17,
   "metadata": {},
   "outputs": [
    {
     "data": {
      "text/plain": [
       "0       0\n",
       "1       0\n",
       "2       0\n",
       "3       1\n",
       "4       0\n",
       "       ..\n",
       "5166    0\n",
       "5167    0\n",
       "5168    0\n",
       "5169    0\n",
       "5170    1\n",
       "Name: Prediction, Length: 5171, dtype: int64"
      ]
     },
     "execution_count": 17,
     "metadata": {},
     "output_type": "execute_result"
    }
   ],
   "source": [
    "df_test_y = df_test['Prediction']\n",
    "df_test_y"
   ]
  },
  {
   "cell_type": "markdown",
   "metadata": {},
   "source": [
    "## Random Forest"
   ]
  },
  {
   "cell_type": "code",
   "execution_count": 22,
   "metadata": {},
   "outputs": [
    {
     "name": "stdout",
     "output_type": "stream",
     "text": [
      "--- 73.49343609809875 seconds ---\n"
     ]
    }
   ],
   "source": [
    "#Create test Random Forest model\n",
    "import time\n",
    "\n",
    "start_time = time.time()\n",
    "\n",
    "testRF = RandomForestClassifier(n_estimators=2000, criterion='entropy',\n",
    "max_depth=None, min_samples_leaf=1, max_features='sqrt', random_state=rseed)\n",
    "testRF.fit(df_std_x, raw_y)\n",
    "\n",
    "print(\"--- %s seconds ---\" % (time.time() - start_time))"
   ]
  },
  {
   "cell_type": "code",
   "execution_count": 23,
   "metadata": {},
   "outputs": [
    {
     "name": "stdout",
     "output_type": "stream",
     "text": [
      "--- 2.7609963417053223 seconds ---\n"
     ]
    }
   ],
   "source": [
    "#Test model\n",
    "start_time = time.time()\n",
    "\n",
    "y_test_pred = testRF.predict(df_test_std_x)\n",
    "y_test_pred\n",
    "\n",
    "print(\"--- %s seconds ---\" % (time.time() - start_time))"
   ]
  },
  {
   "cell_type": "code",
   "execution_count": 24,
   "metadata": {},
   "outputs": [
    {
     "name": "stdout",
     "output_type": "stream",
     "text": [
      "Confusion Matrix\n",
      "[[3612   60]\n",
      " [   3 1496]]\n",
      "------------------------------\n",
      "Classification Report: \n",
      "              precision    recall  f1-score   support\n",
      "\n",
      "           0       1.00      0.98      0.99      3672\n",
      "           1       0.96      1.00      0.98      1499\n",
      "\n",
      "    accuracy                           0.99      5171\n",
      "   macro avg       0.98      0.99      0.99      5171\n",
      "weighted avg       0.99      0.99      0.99      5171\n",
      "\n"
     ]
    }
   ],
   "source": [
    "#Print confusion matrix and classification report\n",
    "print('Confusion Matrix')\n",
    "print(confusion_matrix(df_test_y, y_test_pred))\n",
    "print(\"------------------------------\")\n",
    "print('Classification Report: ')\n",
    "print(classification_report(df_test_y, y_test_pred))"
   ]
  },
  {
   "cell_type": "markdown",
   "metadata": {},
   "source": [
    "# Final Model"
   ]
  },
  {
   "cell_type": "code",
   "execution_count": 23,
   "metadata": {},
   "outputs": [
    {
     "data": {
      "text/html": [
       "<style>#sk-container-id-1 {color: black;background-color: white;}#sk-container-id-1 pre{padding: 0;}#sk-container-id-1 div.sk-toggleable {background-color: white;}#sk-container-id-1 label.sk-toggleable__label {cursor: pointer;display: block;width: 100%;margin-bottom: 0;padding: 0.3em;box-sizing: border-box;text-align: center;}#sk-container-id-1 label.sk-toggleable__label-arrow:before {content: \"▸\";float: left;margin-right: 0.25em;color: #696969;}#sk-container-id-1 label.sk-toggleable__label-arrow:hover:before {color: black;}#sk-container-id-1 div.sk-estimator:hover label.sk-toggleable__label-arrow:before {color: black;}#sk-container-id-1 div.sk-toggleable__content {max-height: 0;max-width: 0;overflow: hidden;text-align: left;background-color: #f0f8ff;}#sk-container-id-1 div.sk-toggleable__content pre {margin: 0.2em;color: black;border-radius: 0.25em;background-color: #f0f8ff;}#sk-container-id-1 input.sk-toggleable__control:checked~div.sk-toggleable__content {max-height: 200px;max-width: 100%;overflow: auto;}#sk-container-id-1 input.sk-toggleable__control:checked~label.sk-toggleable__label-arrow:before {content: \"▾\";}#sk-container-id-1 div.sk-estimator input.sk-toggleable__control:checked~label.sk-toggleable__label {background-color: #d4ebff;}#sk-container-id-1 div.sk-label input.sk-toggleable__control:checked~label.sk-toggleable__label {background-color: #d4ebff;}#sk-container-id-1 input.sk-hidden--visually {border: 0;clip: rect(1px 1px 1px 1px);clip: rect(1px, 1px, 1px, 1px);height: 1px;margin: -1px;overflow: hidden;padding: 0;position: absolute;width: 1px;}#sk-container-id-1 div.sk-estimator {font-family: monospace;background-color: #f0f8ff;border: 1px dotted black;border-radius: 0.25em;box-sizing: border-box;margin-bottom: 0.5em;}#sk-container-id-1 div.sk-estimator:hover {background-color: #d4ebff;}#sk-container-id-1 div.sk-parallel-item::after {content: \"\";width: 100%;border-bottom: 1px solid gray;flex-grow: 1;}#sk-container-id-1 div.sk-label:hover label.sk-toggleable__label {background-color: #d4ebff;}#sk-container-id-1 div.sk-serial::before {content: \"\";position: absolute;border-left: 1px solid gray;box-sizing: border-box;top: 0;bottom: 0;left: 50%;z-index: 0;}#sk-container-id-1 div.sk-serial {display: flex;flex-direction: column;align-items: center;background-color: white;padding-right: 0.2em;padding-left: 0.2em;position: relative;}#sk-container-id-1 div.sk-item {position: relative;z-index: 1;}#sk-container-id-1 div.sk-parallel {display: flex;align-items: stretch;justify-content: center;background-color: white;position: relative;}#sk-container-id-1 div.sk-item::before, #sk-container-id-1 div.sk-parallel-item::before {content: \"\";position: absolute;border-left: 1px solid gray;box-sizing: border-box;top: 0;bottom: 0;left: 50%;z-index: -1;}#sk-container-id-1 div.sk-parallel-item {display: flex;flex-direction: column;z-index: 1;position: relative;background-color: white;}#sk-container-id-1 div.sk-parallel-item:first-child::after {align-self: flex-end;width: 50%;}#sk-container-id-1 div.sk-parallel-item:last-child::after {align-self: flex-start;width: 50%;}#sk-container-id-1 div.sk-parallel-item:only-child::after {width: 0;}#sk-container-id-1 div.sk-dashed-wrapped {border: 1px dashed gray;margin: 0 0.4em 0.5em 0.4em;box-sizing: border-box;padding-bottom: 0.4em;background-color: white;}#sk-container-id-1 div.sk-label label {font-family: monospace;font-weight: bold;display: inline-block;line-height: 1.2em;}#sk-container-id-1 div.sk-label-container {text-align: center;}#sk-container-id-1 div.sk-container {/* jupyter's `normalize.less` sets `[hidden] { display: none; }` but bootstrap.min.css set `[hidden] { display: none !important; }` so we also need the `!important` here to be able to override the default hidden behavior on the sphinx rendered scikit-learn.org. See: https://github.com/scikit-learn/scikit-learn/issues/21755 */display: inline-block !important;position: relative;}#sk-container-id-1 div.sk-text-repr-fallback {display: none;}</style><div id=\"sk-container-id-1\" class=\"sk-top-container\"><div class=\"sk-text-repr-fallback\"><pre>RandomForestClassifier(criterion=&#x27;entropy&#x27;, n_estimators=2000, random_state=42)</pre><b>In a Jupyter environment, please rerun this cell to show the HTML representation or trust the notebook. <br />On GitHub, the HTML representation is unable to render, please try loading this page with nbviewer.org.</b></div><div class=\"sk-container\" hidden><div class=\"sk-item\"><div class=\"sk-estimator sk-toggleable\"><input class=\"sk-toggleable__control sk-hidden--visually\" id=\"sk-estimator-id-1\" type=\"checkbox\" checked><label for=\"sk-estimator-id-1\" class=\"sk-toggleable__label sk-toggleable__label-arrow\">RandomForestClassifier</label><div class=\"sk-toggleable__content\"><pre>RandomForestClassifier(criterion=&#x27;entropy&#x27;, n_estimators=2000, random_state=42)</pre></div></div></div></div></div>"
      ],
      "text/plain": [
       "RandomForestClassifier(criterion='entropy', n_estimators=2000, random_state=42)"
      ]
     },
     "execution_count": 23,
     "metadata": {},
     "output_type": "execute_result"
    }
   ],
   "source": [
    "#Create final Random Forest model\n",
    "FinalRF = RandomForestClassifier(n_estimators=2000, criterion='entropy', max_depth=None, min_samples_leaf=1, max_features='sqrt', random_state=rseed)\n",
    "FinalRF.fit(df_std_x, raw_y)"
   ]
  }
 ],
 "metadata": {
  "kernelspec": {
   "display_name": "Python 3.9.6 64-bit",
   "language": "python",
   "name": "python3"
  },
  "language_info": {
   "codemirror_mode": {
    "name": "ipython",
    "version": 3
   },
   "file_extension": ".py",
   "mimetype": "text/x-python",
   "name": "python",
   "nbconvert_exporter": "python",
   "pygments_lexer": "ipython3",
   "version": "3.9.6"
  },
  "orig_nbformat": 4,
  "vscode": {
   "interpreter": {
    "hash": "11938c6bc6919ae2720b4d5011047913343b08a43b18698fd82dedb0d4417594"
   }
  }
 },
 "nbformat": 4,
 "nbformat_minor": 2
}
